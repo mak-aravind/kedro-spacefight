{
 "cells": [
  {
   "cell_type": "markdown",
   "metadata": {},
   "source": [
    "# Bring in the Kedro the Framework to build maintainable Data Pipelines"
   ]
  },
  {
   "cell_type": "markdown",
   "metadata": {},
   "source": [
    "## Install the Kedro's wrapper for pandas"
   ]
  },
  {
   "cell_type": "code",
   "execution_count": 143,
   "metadata": {},
   "outputs": [
    {
     "name": "stdout",
     "output_type": "stream",
     "text": [
      "Requirement already satisfied: kedro-datasets[pandas] in /home/mak/anaconda3/envs/kedro-environment/lib/python3.10/site-packages (3.0.1)\n",
      "Requirement already satisfied: kedro>=0.19 in /home/mak/anaconda3/envs/kedro-environment/lib/python3.10/site-packages (from kedro-datasets[pandas]) (0.19.6)\n",
      "Requirement already satisfied: lazy-loader in /home/mak/anaconda3/envs/kedro-environment/lib/python3.10/site-packages (from kedro-datasets[pandas]) (0.4)\n",
      "Requirement already satisfied: attrs>=21.3 in /home/mak/.local/lib/python3.10/site-packages (from kedro>=0.19->kedro-datasets[pandas]) (23.2.0)\n",
      "Requirement already satisfied: build>=0.7.0 in /home/mak/.local/lib/python3.10/site-packages (from kedro>=0.19->kedro-datasets[pandas]) (1.2.1)\n",
      "Requirement already satisfied: cachetools>=4.1 in /home/mak/.local/lib/python3.10/site-packages (from kedro>=0.19->kedro-datasets[pandas]) (5.3.3)\n",
      "Requirement already satisfied: click>=4.0 in /home/mak/.local/lib/python3.10/site-packages (from kedro>=0.19->kedro-datasets[pandas]) (8.1.7)\n",
      "Requirement already satisfied: cookiecutter<3.0,>=2.1.1 in /home/mak/anaconda3/envs/kedro-environment/lib/python3.10/site-packages (from kedro>=0.19->kedro-datasets[pandas]) (2.6.0)\n",
      "Requirement already satisfied: dynaconf<4.0,>=3.1.2 in /home/mak/anaconda3/envs/kedro-environment/lib/python3.10/site-packages (from kedro>=0.19->kedro-datasets[pandas]) (3.2.5)\n",
      "Requirement already satisfied: fsspec>=2021.4 in /home/mak/.local/lib/python3.10/site-packages (from kedro>=0.19->kedro-datasets[pandas]) (2024.6.0)\n",
      "Requirement already satisfied: gitpython>=3.0 in /home/mak/.local/lib/python3.10/site-packages (from kedro>=0.19->kedro-datasets[pandas]) (3.1.43)\n",
      "Requirement already satisfied: importlib-resources<7.0,>=1.3 in /home/mak/.local/lib/python3.10/site-packages (from kedro>=0.19->kedro-datasets[pandas]) (6.4.0)\n",
      "Requirement already satisfied: more-itertools>=8.14.0 in /home/mak/anaconda3/envs/kedro-environment/lib/python3.10/site-packages (from kedro>=0.19->kedro-datasets[pandas]) (10.3.0)\n",
      "Requirement already satisfied: omegaconf>=2.1.1 in /home/mak/anaconda3/envs/kedro-environment/lib/python3.10/site-packages (from kedro>=0.19->kedro-datasets[pandas]) (2.3.0)\n",
      "Requirement already satisfied: parse>=1.19.0 in /home/mak/anaconda3/envs/kedro-environment/lib/python3.10/site-packages (from kedro>=0.19->kedro-datasets[pandas]) (1.20.2)\n",
      "Requirement already satisfied: pluggy>=1.0 in /home/mak/.local/lib/python3.10/site-packages (from kedro>=0.19->kedro-datasets[pandas]) (1.5.0)\n",
      "Requirement already satisfied: pre-commit-hooks in /home/mak/anaconda3/envs/kedro-environment/lib/python3.10/site-packages (from kedro>=0.19->kedro-datasets[pandas]) (4.6.0)\n",
      "Requirement already satisfied: PyYAML<7.0,>=4.2 in /home/mak/.local/lib/python3.10/site-packages (from kedro>=0.19->kedro-datasets[pandas]) (6.0.1)\n",
      "Requirement already satisfied: rich<14.0,>=12.0 in /home/mak/.local/lib/python3.10/site-packages (from kedro>=0.19->kedro-datasets[pandas]) (13.7.1)\n",
      "Requirement already satisfied: rope<2.0,>=0.21 in /home/mak/anaconda3/envs/kedro-environment/lib/python3.10/site-packages (from kedro>=0.19->kedro-datasets[pandas]) (1.13.0)\n",
      "Requirement already satisfied: toml>=0.10.0 in /home/mak/anaconda3/envs/kedro-environment/lib/python3.10/site-packages (from kedro>=0.19->kedro-datasets[pandas]) (0.10.2)\n",
      "Requirement already satisfied: importlib-metadata<8.0,>=3.6 in /home/mak/.local/lib/python3.10/site-packages (from kedro>=0.19->kedro-datasets[pandas]) (7.1.0)\n",
      "\u001b[33mWARNING: kedro-datasets 3.0.1 does not provide the extra 'pandas-gbqtabledataset-pandas-genericdataset'\u001b[0m\u001b[33m\n",
      "\u001b[0mRequirement already satisfied: tables~=3.6 in /home/mak/anaconda3/envs/kedro-environment/lib/python3.10/site-packages (from kedro-datasets[pandas]) (3.9.2)\n",
      "Requirement already satisfied: pandas-gbq<0.18.0,>=0.12.0 in /home/mak/anaconda3/envs/kedro-environment/lib/python3.10/site-packages (from kedro-datasets[pandas]) (0.17.9)\n",
      "Requirement already satisfied: SQLAlchemy<3.0,>=1.4 in /home/mak/.local/lib/python3.10/site-packages (from kedro-datasets[pandas]) (2.0.30)\n",
      "Requirement already satisfied: pyarrow>=6.0 in /home/mak/anaconda3/envs/kedro-environment/lib/python3.10/site-packages (from kedro-datasets[pandas]) (9.0.0)\n",
      "Requirement already satisfied: openpyxl<4.0,>=3.0.6 in /home/mak/anaconda3/envs/kedro-environment/lib/python3.10/site-packages (from kedro-datasets[pandas]) (3.1.4)\n",
      "Requirement already satisfied: pyodbc>=4.0 in /home/mak/anaconda3/envs/kedro-environment/lib/python3.10/site-packages (from kedro-datasets[pandas]) (5.1.0)\n",
      "Requirement already satisfied: lxml~=4.6 in /home/mak/anaconda3/envs/kedro-environment/lib/python3.10/site-packages (from kedro-datasets[pandas]) (4.9.4)\n",
      "Requirement already satisfied: deltalake>=0.10.0 in /home/mak/anaconda3/envs/kedro-environment/lib/python3.10/site-packages (from kedro-datasets[pandas]) (0.18.1)\n",
      "Requirement already satisfied: packaging in /home/mak/.local/lib/python3.10/site-packages (from lazy-loader->kedro-datasets[pandas]) (23.2)\n",
      "Requirement already satisfied: pyproject_hooks in /home/mak/.local/lib/python3.10/site-packages (from build>=0.7.0->kedro>=0.19->kedro-datasets[pandas]) (1.1.0)\n",
      "Requirement already satisfied: tomli>=1.1.0 in /home/mak/.local/lib/python3.10/site-packages (from build>=0.7.0->kedro>=0.19->kedro-datasets[pandas]) (2.0.1)\n",
      "Requirement already satisfied: binaryornot>=0.4.4 in /home/mak/anaconda3/envs/kedro-environment/lib/python3.10/site-packages (from cookiecutter<3.0,>=2.1.1->kedro>=0.19->kedro-datasets[pandas]) (0.4.4)\n",
      "Requirement already satisfied: Jinja2<4.0.0,>=2.7 in /home/mak/anaconda3/envs/kedro-environment/lib/python3.10/site-packages (from cookiecutter<3.0,>=2.1.1->kedro>=0.19->kedro-datasets[pandas]) (3.1.4)\n",
      "Requirement already satisfied: python-slugify>=4.0.0 in /home/mak/anaconda3/envs/kedro-environment/lib/python3.10/site-packages (from cookiecutter<3.0,>=2.1.1->kedro>=0.19->kedro-datasets[pandas]) (8.0.4)\n",
      "Requirement already satisfied: requests>=2.23.0 in /home/mak/.local/lib/python3.10/site-packages (from cookiecutter<3.0,>=2.1.1->kedro>=0.19->kedro-datasets[pandas]) (2.32.3)\n",
      "Requirement already satisfied: arrow in /home/mak/anaconda3/envs/kedro-environment/lib/python3.10/site-packages (from cookiecutter<3.0,>=2.1.1->kedro>=0.19->kedro-datasets[pandas]) (1.3.0)\n",
      "Requirement already satisfied: pyarrow-hotfix in /home/mak/anaconda3/envs/kedro-environment/lib/python3.10/site-packages (from deltalake>=0.10.0->kedro-datasets[pandas]) (0.6)\n",
      "Requirement already satisfied: gitdb<5,>=4.0.1 in /home/mak/.local/lib/python3.10/site-packages (from gitpython>=3.0->kedro>=0.19->kedro-datasets[pandas]) (4.0.11)\n",
      "Requirement already satisfied: zipp>=0.5 in /home/mak/anaconda3/envs/kedro-environment/lib/python3.10/site-packages (from importlib-metadata<8.0,>=3.6->kedro>=0.19->kedro-datasets[pandas]) (3.19.2)\n",
      "Requirement already satisfied: antlr4-python3-runtime==4.9.* in /home/mak/anaconda3/envs/kedro-environment/lib/python3.10/site-packages (from omegaconf>=2.1.1->kedro>=0.19->kedro-datasets[pandas]) (4.9.3)\n",
      "Requirement already satisfied: et-xmlfile in /home/mak/anaconda3/envs/kedro-environment/lib/python3.10/site-packages (from openpyxl<4.0,>=3.0.6->kedro-datasets[pandas]) (1.1.0)\n",
      "Requirement already satisfied: setuptools in /home/mak/anaconda3/envs/kedro-environment/lib/python3.10/site-packages (from pandas-gbq<0.18.0,>=0.12.0->kedro-datasets[pandas]) (69.5.1)\n",
      "Requirement already satisfied: db-dtypes<2.0.0,>=0.3.1 in /home/mak/anaconda3/envs/kedro-environment/lib/python3.10/site-packages (from pandas-gbq<0.18.0,>=0.12.0->kedro-datasets[pandas]) (1.2.0)\n",
      "Requirement already satisfied: numpy>=1.16.6 in /home/mak/.local/lib/python3.10/site-packages (from pandas-gbq<0.18.0,>=0.12.0->kedro-datasets[pandas]) (1.24.1)\n",
      "Requirement already satisfied: pandas>=0.24.2 in /home/mak/anaconda3/envs/kedro-environment/lib/python3.10/site-packages (from pandas-gbq<0.18.0,>=0.12.0->kedro-datasets[pandas]) (2.2.2)\n",
      "Requirement already satisfied: pydata-google-auth in /home/mak/anaconda3/envs/kedro-environment/lib/python3.10/site-packages (from pandas-gbq<0.18.0,>=0.12.0->kedro-datasets[pandas]) (1.8.2)\n",
      "Requirement already satisfied: google-api-core!=2.0.*,!=2.1.*,!=2.2.*,!=2.3.0,<3.0.0dev,>=1.31.5 in /home/mak/.local/lib/python3.10/site-packages (from pandas-gbq<0.18.0,>=0.12.0->kedro-datasets[pandas]) (2.19.0)\n",
      "Requirement already satisfied: google-auth>=1.25.0 in /home/mak/.local/lib/python3.10/site-packages (from pandas-gbq<0.18.0,>=0.12.0->kedro-datasets[pandas]) (2.30.0)\n",
      "Requirement already satisfied: google-auth-oauthlib>=0.0.1 in /home/mak/anaconda3/envs/kedro-environment/lib/python3.10/site-packages (from pandas-gbq<0.18.0,>=0.12.0->kedro-datasets[pandas]) (1.2.0)\n",
      "Requirement already satisfied: google-cloud-bigquery!=2.4.*,<4.0.0dev,>=1.27.2 in /home/mak/.local/lib/python3.10/site-packages (from pandas-gbq<0.18.0,>=0.12.0->kedro-datasets[pandas]) (3.24.0)\n",
      "Requirement already satisfied: google-cloud-bigquery-storage<3.0.0dev,>=1.1.0 in /home/mak/anaconda3/envs/kedro-environment/lib/python3.10/site-packages (from pandas-gbq<0.18.0,>=0.12.0->kedro-datasets[pandas]) (2.25.0)\n",
      "Requirement already satisfied: markdown-it-py>=2.2.0 in /home/mak/.local/lib/python3.10/site-packages (from rich<14.0,>=12.0->kedro>=0.19->kedro-datasets[pandas]) (3.0.0)\n",
      "Requirement already satisfied: pygments<3.0.0,>=2.13.0 in /home/mak/.local/lib/python3.10/site-packages (from rich<14.0,>=12.0->kedro>=0.19->kedro-datasets[pandas]) (2.17.2)\n",
      "Requirement already satisfied: pytoolconfig>=1.2.2 in /home/mak/anaconda3/envs/kedro-environment/lib/python3.10/site-packages (from pytoolconfig[global]>=1.2.2->rope<2.0,>=0.21->kedro>=0.19->kedro-datasets[pandas]) (1.3.1)\n",
      "Requirement already satisfied: typing-extensions>=4.6.0 in /home/mak/.local/lib/python3.10/site-packages (from SQLAlchemy<3.0,>=1.4->kedro-datasets[pandas]) (4.10.0)\n",
      "Requirement already satisfied: greenlet!=0.4.17 in /home/mak/.local/lib/python3.10/site-packages (from SQLAlchemy<3.0,>=1.4->kedro-datasets[pandas]) (3.0.3)\n",
      "Requirement already satisfied: numexpr>=2.6.2 in /home/mak/anaconda3/envs/kedro-environment/lib/python3.10/site-packages (from tables~=3.6->kedro-datasets[pandas]) (2.10.1)\n",
      "Requirement already satisfied: py-cpuinfo in /home/mak/anaconda3/envs/kedro-environment/lib/python3.10/site-packages (from tables~=3.6->kedro-datasets[pandas]) (9.0.0)\n",
      "Requirement already satisfied: blosc2>=2.3.0 in /home/mak/anaconda3/envs/kedro-environment/lib/python3.10/site-packages (from tables~=3.6->kedro-datasets[pandas]) (2.7.0)\n",
      "Requirement already satisfied: ruamel.yaml>=0.15 in /home/mak/anaconda3/envs/kedro-environment/lib/python3.10/site-packages (from pre-commit-hooks->kedro>=0.19->kedro-datasets[pandas]) (0.18.6)\n",
      "Requirement already satisfied: chardet>=3.0.2 in /home/mak/anaconda3/envs/kedro-environment/lib/python3.10/site-packages (from binaryornot>=0.4.4->cookiecutter<3.0,>=2.1.1->kedro>=0.19->kedro-datasets[pandas]) (5.2.0)\n",
      "Requirement already satisfied: ndindex>=1.4 in /home/mak/anaconda3/envs/kedro-environment/lib/python3.10/site-packages (from blosc2>=2.3.0->tables~=3.6->kedro-datasets[pandas]) (1.8)\n",
      "Requirement already satisfied: msgpack in /home/mak/anaconda3/envs/kedro-environment/lib/python3.10/site-packages (from blosc2>=2.3.0->tables~=3.6->kedro-datasets[pandas]) (1.0.8)\n",
      "Requirement already satisfied: smmap<6,>=3.0.1 in /home/mak/.local/lib/python3.10/site-packages (from gitdb<5,>=4.0.1->gitpython>=3.0->kedro>=0.19->kedro-datasets[pandas]) (5.0.1)\n",
      "Requirement already satisfied: googleapis-common-protos<2.0.dev0,>=1.56.2 in /home/mak/.local/lib/python3.10/site-packages (from google-api-core!=2.0.*,!=2.1.*,!=2.2.*,!=2.3.0,<3.0.0dev,>=1.31.5->pandas-gbq<0.18.0,>=0.12.0->kedro-datasets[pandas]) (1.63.1)\n",
      "Requirement already satisfied: protobuf!=3.20.0,!=3.20.1,!=4.21.0,!=4.21.1,!=4.21.2,!=4.21.3,!=4.21.4,!=4.21.5,<5.0.0.dev0,>=3.19.5 in /home/mak/.local/lib/python3.10/site-packages (from google-api-core!=2.0.*,!=2.1.*,!=2.2.*,!=2.3.0,<3.0.0dev,>=1.31.5->pandas-gbq<0.18.0,>=0.12.0->kedro-datasets[pandas]) (4.25.3)\n",
      "Requirement already satisfied: proto-plus<2.0.0dev,>=1.22.3 in /home/mak/.local/lib/python3.10/site-packages (from google-api-core!=2.0.*,!=2.1.*,!=2.2.*,!=2.3.0,<3.0.0dev,>=1.31.5->pandas-gbq<0.18.0,>=0.12.0->kedro-datasets[pandas]) (1.23.0)\n",
      "Requirement already satisfied: pyasn1-modules>=0.2.1 in /home/mak/.local/lib/python3.10/site-packages (from google-auth>=1.25.0->pandas-gbq<0.18.0,>=0.12.0->kedro-datasets[pandas]) (0.4.0)\n",
      "Requirement already satisfied: rsa<5,>=3.1.4 in /home/mak/.local/lib/python3.10/site-packages (from google-auth>=1.25.0->pandas-gbq<0.18.0,>=0.12.0->kedro-datasets[pandas]) (4.9)\n",
      "Requirement already satisfied: requests-oauthlib>=0.7.0 in /home/mak/.local/lib/python3.10/site-packages (from google-auth-oauthlib>=0.0.1->pandas-gbq<0.18.0,>=0.12.0->kedro-datasets[pandas]) (2.0.0)\n",
      "Requirement already satisfied: google-cloud-core<3.0.0dev,>=1.6.0 in /home/mak/.local/lib/python3.10/site-packages (from google-cloud-bigquery!=2.4.*,<4.0.0dev,>=1.27.2->pandas-gbq<0.18.0,>=0.12.0->kedro-datasets[pandas]) (2.4.1)\n",
      "Requirement already satisfied: google-resumable-media<3.0dev,>=0.6.0 in /home/mak/.local/lib/python3.10/site-packages (from google-cloud-bigquery!=2.4.*,<4.0.0dev,>=1.27.2->pandas-gbq<0.18.0,>=0.12.0->kedro-datasets[pandas]) (2.7.1)\n",
      "Requirement already satisfied: python-dateutil<3.0dev,>=2.7.2 in /home/mak/anaconda3/envs/kedro-environment/lib/python3.10/site-packages (from google-cloud-bigquery!=2.4.*,<4.0.0dev,>=1.27.2->pandas-gbq<0.18.0,>=0.12.0->kedro-datasets[pandas]) (2.9.0.post0)\n",
      "Requirement already satisfied: MarkupSafe>=2.0 in /home/mak/.local/lib/python3.10/site-packages (from Jinja2<4.0.0,>=2.7->cookiecutter<3.0,>=2.1.1->kedro>=0.19->kedro-datasets[pandas]) (2.1.2)\n",
      "Requirement already satisfied: mdurl~=0.1 in /home/mak/.local/lib/python3.10/site-packages (from markdown-it-py>=2.2.0->rich<14.0,>=12.0->kedro>=0.19->kedro-datasets[pandas]) (0.1.2)\n",
      "Requirement already satisfied: pytz>=2020.1 in /home/mak/anaconda3/envs/kedro-environment/lib/python3.10/site-packages (from pandas>=0.24.2->pandas-gbq<0.18.0,>=0.12.0->kedro-datasets[pandas]) (2024.1)\n",
      "Requirement already satisfied: tzdata>=2022.7 in /home/mak/anaconda3/envs/kedro-environment/lib/python3.10/site-packages (from pandas>=0.24.2->pandas-gbq<0.18.0,>=0.12.0->kedro-datasets[pandas]) (2024.1)\n",
      "Requirement already satisfied: text-unidecode>=1.3 in /home/mak/anaconda3/envs/kedro-environment/lib/python3.10/site-packages (from python-slugify>=4.0.0->cookiecutter<3.0,>=2.1.1->kedro>=0.19->kedro-datasets[pandas]) (1.3)\n",
      "Requirement already satisfied: platformdirs>=3.11.0 in /home/mak/anaconda3/envs/kedro-environment/lib/python3.10/site-packages (from pytoolconfig[global]>=1.2.2->rope<2.0,>=0.21->kedro>=0.19->kedro-datasets[pandas]) (4.2.2)\n",
      "Requirement already satisfied: charset-normalizer<4,>=2 in /home/mak/.local/lib/python3.10/site-packages (from requests>=2.23.0->cookiecutter<3.0,>=2.1.1->kedro>=0.19->kedro-datasets[pandas]) (3.3.2)\n",
      "Requirement already satisfied: idna<4,>=2.5 in /home/mak/anaconda3/envs/kedro-environment/lib/python3.10/site-packages (from requests>=2.23.0->cookiecutter<3.0,>=2.1.1->kedro>=0.19->kedro-datasets[pandas]) (3.7)\n",
      "Requirement already satisfied: urllib3<3,>=1.21.1 in /home/mak/.local/lib/python3.10/site-packages (from requests>=2.23.0->cookiecutter<3.0,>=2.1.1->kedro>=0.19->kedro-datasets[pandas]) (2.2.1)\n",
      "Requirement already satisfied: certifi>=2017.4.17 in /home/mak/.local/lib/python3.10/site-packages (from requests>=2.23.0->cookiecutter<3.0,>=2.1.1->kedro>=0.19->kedro-datasets[pandas]) (2022.12.7)\n",
      "Requirement already satisfied: ruamel.yaml.clib>=0.2.7 in /home/mak/anaconda3/envs/kedro-environment/lib/python3.10/site-packages (from ruamel.yaml>=0.15->pre-commit-hooks->kedro>=0.19->kedro-datasets[pandas]) (0.2.8)\n",
      "Requirement already satisfied: types-python-dateutil>=2.8.10 in /home/mak/anaconda3/envs/kedro-environment/lib/python3.10/site-packages (from arrow->cookiecutter<3.0,>=2.1.1->kedro>=0.19->kedro-datasets[pandas]) (2.9.0.20240316)\n",
      "Requirement already satisfied: grpcio<2.0dev,>=1.33.2 in /home/mak/.local/lib/python3.10/site-packages (from google-api-core[grpc]!=2.0.*,!=2.1.*,!=2.10.*,!=2.2.*,!=2.3.*,!=2.4.*,!=2.5.*,!=2.6.*,!=2.7.*,!=2.8.*,!=2.9.*,<3.0.0dev,>=1.34.1->google-cloud-bigquery!=2.4.*,<4.0.0dev,>=1.27.2->pandas-gbq<0.18.0,>=0.12.0->kedro-datasets[pandas]) (1.64.1)\n",
      "Requirement already satisfied: grpcio-status<2.0.dev0,>=1.33.2 in /home/mak/.local/lib/python3.10/site-packages (from google-api-core[grpc]!=2.0.*,!=2.1.*,!=2.10.*,!=2.2.*,!=2.3.*,!=2.4.*,!=2.5.*,!=2.6.*,!=2.7.*,!=2.8.*,!=2.9.*,<3.0.0dev,>=1.34.1->google-cloud-bigquery!=2.4.*,<4.0.0dev,>=1.27.2->pandas-gbq<0.18.0,>=0.12.0->kedro-datasets[pandas]) (1.62.2)\n",
      "Requirement already satisfied: google-crc32c<2.0dev,>=1.0 in /home/mak/.local/lib/python3.10/site-packages (from google-resumable-media<3.0dev,>=0.6.0->google-cloud-bigquery!=2.4.*,<4.0.0dev,>=1.27.2->pandas-gbq<0.18.0,>=0.12.0->kedro-datasets[pandas]) (1.5.0)\n",
      "Requirement already satisfied: pyasn1<0.7.0,>=0.4.6 in /home/mak/.local/lib/python3.10/site-packages (from pyasn1-modules>=0.2.1->google-auth>=1.25.0->pandas-gbq<0.18.0,>=0.12.0->kedro-datasets[pandas]) (0.6.0)\n",
      "Requirement already satisfied: six>=1.5 in /home/mak/anaconda3/envs/kedro-environment/lib/python3.10/site-packages (from python-dateutil<3.0dev,>=2.7.2->google-cloud-bigquery!=2.4.*,<4.0.0dev,>=1.27.2->pandas-gbq<0.18.0,>=0.12.0->kedro-datasets[pandas]) (1.16.0)\n",
      "Requirement already satisfied: oauthlib>=3.0.0 in /home/mak/.local/lib/python3.10/site-packages (from requests-oauthlib>=0.7.0->google-auth-oauthlib>=0.0.1->pandas-gbq<0.18.0,>=0.12.0->kedro-datasets[pandas]) (3.2.2)\n",
      "Note: you may need to restart the kernel to use updated packages.\n"
     ]
    }
   ],
   "source": [
    "%pip install kedro-datasets[pandas]"
   ]
  },
  {
   "cell_type": "markdown",
   "metadata": {},
   "source": [
    "## Load the kedro's extension for ipython(jupyter) to access kedro's Object inside notebook"
   ]
  },
  {
   "cell_type": "code",
   "execution_count": 144,
   "metadata": {},
   "outputs": [
    {
     "name": "stdout",
     "output_type": "stream",
     "text": [
      "The kedro.ipython extension is already loaded. To reload it, use:\n",
      "  %reload_ext kedro.ipython\n"
     ]
    }
   ],
   "source": [
    "%load_ext kedro.ipython"
   ]
  },
  {
   "cell_type": "markdown",
   "metadata": {},
   "source": [
    "## Verify whether the any expected Kedro object is available, choosen catalog is available"
   ]
  },
  {
   "cell_type": "code",
   "execution_count": 145,
   "metadata": {},
   "outputs": [
    {
     "data": {
      "text/html": [
       "<pre style=\"white-space:pre;overflow-x:auto;line-height:normal;font-family:Menlo,'DejaVu Sans Mono',consolas,'Courier New',monospace\"></pre>\n"
      ],
      "text/plain": []
     },
     "metadata": {},
     "output_type": "display_data"
    },
    {
     "data": {
      "text/plain": [
       "\u001b[1m<\u001b[0m\u001b[1;95mkedro.io.data_catalog.DataCatalog\u001b[0m\u001b[39m object at \u001b[0m\u001b[1;36m0x7cc7709572e0\u001b[0m\u001b[1m>\u001b[0m"
      ]
     },
     "execution_count": 145,
     "metadata": {},
     "output_type": "execute_result"
    }
   ],
   "source": [
    "catalog"
   ]
  },
  {
   "cell_type": "markdown",
   "metadata": {},
   "source": [
    "## Check whether the catalogs defined in catalog.yml are available"
   ]
  },
  {
   "cell_type": "code",
   "execution_count": 146,
   "metadata": {},
   "outputs": [
    {
     "data": {
      "text/html": [
       "<pre style=\"white-space:pre;overflow-x:auto;line-height:normal;font-family:Menlo,'DejaVu Sans Mono',consolas,'Courier New',monospace\"></pre>\n"
      ],
      "text/plain": []
     },
     "metadata": {},
     "output_type": "display_data"
    },
    {
     "data": {
      "text/plain": [
       "\u001b[1m[\u001b[0m\u001b[32m'companies'\u001b[0m, \u001b[32m'reviews'\u001b[0m, \u001b[32m'shuttles'\u001b[0m, \u001b[32m'parameters'\u001b[0m\u001b[1m]\u001b[0m"
      ]
     },
     "execution_count": 146,
     "metadata": {},
     "output_type": "execute_result"
    }
   ],
   "source": [
    "catalog.list()"
   ]
  },
  {
   "cell_type": "markdown",
   "metadata": {},
   "source": [
    "# Preprocessing with Data Catalog: Companies "
   ]
  },
  {
   "cell_type": "markdown",
   "metadata": {},
   "source": [
    "## Load the companies csv file as panda's dataframe using kedro's catalog"
   ]
  },
  {
   "cell_type": "code",
   "execution_count": 147,
   "metadata": {},
   "outputs": [
    {
     "data": {
      "text/html": [
       "<pre style=\"white-space:pre;overflow-x:auto;line-height:normal;font-family:Menlo,'DejaVu Sans Mono',consolas,'Courier New',monospace\"><span style=\"color: #7fbfbf; text-decoration-color: #7fbfbf\">[06/23/24 22:32:23] </span><span style=\"color: #000080; text-decoration-color: #000080\">INFO    </span> Loading data from <span style=\"color: #ff8700; text-decoration-color: #ff8700\">companies</span> <span style=\"font-weight: bold\">(</span>CSVDataset<span style=\"font-weight: bold\">)</span><span style=\"color: #808000; text-decoration-color: #808000\">...</span>                        <a href=\"file:///home/mak/anaconda3/envs/kedro-environment/lib/python3.10/site-packages/kedro/io/data_catalog.py\" target=\"_blank\"><span style=\"color: #7f7f7f; text-decoration-color: #7f7f7f\">data_catalog.py</span></a><span style=\"color: #7f7f7f; text-decoration-color: #7f7f7f\">:</span><a href=\"file:///home/mak/anaconda3/envs/kedro-environment/lib/python3.10/site-packages/kedro/io/data_catalog.py#508\" target=\"_blank\"><span style=\"color: #7f7f7f; text-decoration-color: #7f7f7f\">508</span></a>\n",
       "</pre>\n"
      ],
      "text/plain": [
       "\u001b[2;36m[06/23/24 22:32:23]\u001b[0m\u001b[2;36m \u001b[0m\u001b[34mINFO    \u001b[0m Loading data from \u001b[38;5;208mcompanies\u001b[0m \u001b[1m(\u001b[0mCSVDataset\u001b[1m)\u001b[0m\u001b[33m...\u001b[0m                        \u001b]8;id=538822;file:///home/mak/anaconda3/envs/kedro-environment/lib/python3.10/site-packages/kedro/io/data_catalog.py\u001b\\\u001b[2mdata_catalog.py\u001b[0m\u001b]8;;\u001b\\\u001b[2m:\u001b[0m\u001b]8;id=941965;file:///home/mak/anaconda3/envs/kedro-environment/lib/python3.10/site-packages/kedro/io/data_catalog.py#508\u001b\\\u001b[2m508\u001b[0m\u001b]8;;\u001b\\\n"
      ]
     },
     "metadata": {},
     "output_type": "display_data"
    }
   ],
   "source": [
    "companies = catalog.load(\"companies\")"
   ]
  },
  {
   "cell_type": "markdown",
   "metadata": {},
   "source": [
    "### Verify whether its really Pandas data frame"
   ]
  },
  {
   "cell_type": "code",
   "execution_count": 148,
   "metadata": {},
   "outputs": [
    {
     "data": {
      "text/html": [
       "<pre style=\"white-space:pre;overflow-x:auto;line-height:normal;font-family:Menlo,'DejaVu Sans Mono',consolas,'Courier New',monospace\"></pre>\n"
      ],
      "text/plain": []
     },
     "metadata": {},
     "output_type": "display_data"
    },
    {
     "data": {
      "text/plain": [
       "\u001b[1m<\u001b[0m\u001b[1;95mclass\u001b[0m\u001b[39m \u001b[0m\u001b[32m'pandas.core.frame.DataFrame'\u001b[0m\u001b[1m>\u001b[0m"
      ]
     },
     "execution_count": 148,
     "metadata": {},
     "output_type": "execute_result"
    }
   ],
   "source": [
    "type(companies)"
   ]
  },
  {
   "cell_type": "markdown",
   "metadata": {},
   "source": [
    "### use the famous head method from dataframe to glimpse at the data"
   ]
  },
  {
   "cell_type": "code",
   "execution_count": 149,
   "metadata": {},
   "outputs": [
    {
     "data": {
      "text/html": [
       "<pre style=\"white-space:pre;overflow-x:auto;line-height:normal;font-family:Menlo,'DejaVu Sans Mono',consolas,'Courier New',monospace\"></pre>\n"
      ],
      "text/plain": []
     },
     "metadata": {},
     "output_type": "display_data"
    },
    {
     "data": {
      "text/html": [
       "<div>\n",
       "<style scoped>\n",
       "    .dataframe tbody tr th:only-of-type {\n",
       "        vertical-align: middle;\n",
       "    }\n",
       "\n",
       "    .dataframe tbody tr th {\n",
       "        vertical-align: top;\n",
       "    }\n",
       "\n",
       "    .dataframe thead th {\n",
       "        text-align: right;\n",
       "    }\n",
       "</style>\n",
       "<table border=\"1\" class=\"dataframe\">\n",
       "  <thead>\n",
       "    <tr style=\"text-align: right;\">\n",
       "      <th></th>\n",
       "      <th>id</th>\n",
       "      <th>company_rating</th>\n",
       "      <th>company_location</th>\n",
       "      <th>total_fleet_count</th>\n",
       "      <th>iata_approved</th>\n",
       "    </tr>\n",
       "  </thead>\n",
       "  <tbody>\n",
       "    <tr>\n",
       "      <th>0</th>\n",
       "      <td>3888</td>\n",
       "      <td>100%</td>\n",
       "      <td>Isle of Man</td>\n",
       "      <td>1.0</td>\n",
       "      <td>f</td>\n",
       "    </tr>\n",
       "    <tr>\n",
       "      <th>1</th>\n",
       "      <td>46728</td>\n",
       "      <td>100%</td>\n",
       "      <td>NaN</td>\n",
       "      <td>1.0</td>\n",
       "      <td>f</td>\n",
       "    </tr>\n",
       "    <tr>\n",
       "      <th>2</th>\n",
       "      <td>34618</td>\n",
       "      <td>38%</td>\n",
       "      <td>Isle of Man</td>\n",
       "      <td>1.0</td>\n",
       "      <td>f</td>\n",
       "    </tr>\n",
       "    <tr>\n",
       "      <th>3</th>\n",
       "      <td>28619</td>\n",
       "      <td>100%</td>\n",
       "      <td>Bosnia and Herzegovina</td>\n",
       "      <td>1.0</td>\n",
       "      <td>f</td>\n",
       "    </tr>\n",
       "    <tr>\n",
       "      <th>4</th>\n",
       "      <td>8240</td>\n",
       "      <td>NaN</td>\n",
       "      <td>Chile</td>\n",
       "      <td>1.0</td>\n",
       "      <td>t</td>\n",
       "    </tr>\n",
       "  </tbody>\n",
       "</table>\n",
       "</div>"
      ],
      "text/plain": [
       "\n",
       "      id company_rating        company_location  total_fleet_count  \\\n",
       "\u001b[1;36m0\u001b[0m   \u001b[1;36m3888\u001b[0m           \u001b[1;36m100\u001b[0m%             Isle of Man                \u001b[1;36m1.0\u001b[0m   \n",
       "\u001b[1;36m1\u001b[0m  \u001b[1;36m46728\u001b[0m           \u001b[1;36m100\u001b[0m%                     NaN                \u001b[1;36m1.0\u001b[0m   \n",
       "\u001b[1;36m2\u001b[0m  \u001b[1;36m34618\u001b[0m            \u001b[1;36m38\u001b[0m%             Isle of Man                \u001b[1;36m1.0\u001b[0m   \n",
       "\u001b[1;36m3\u001b[0m  \u001b[1;36m28619\u001b[0m           \u001b[1;36m100\u001b[0m%  Bosnia and Herzegovina                \u001b[1;36m1.0\u001b[0m   \n",
       "\u001b[1;36m4\u001b[0m   \u001b[1;36m8240\u001b[0m            NaN                   Chile                \u001b[1;36m1.0\u001b[0m   \n",
       "\n",
       "  iata_approved  \n",
       "\u001b[1;36m0\u001b[0m             f  \n",
       "\u001b[1;36m1\u001b[0m             f  \n",
       "\u001b[1;36m2\u001b[0m             f  \n",
       "\u001b[1;36m3\u001b[0m             f  \n",
       "\u001b[1;36m4\u001b[0m             t  "
      ]
     },
     "execution_count": 149,
     "metadata": {},
     "output_type": "execute_result"
    }
   ],
   "source": [
    "companies.head()"
   ]
  },
  {
   "cell_type": "markdown",
   "metadata": {},
   "source": [
    "### Above dataframe's column iata_approved has a single character t or f. let's examine the column type"
   ]
  },
  {
   "cell_type": "code",
   "execution_count": 150,
   "metadata": {},
   "outputs": [
    {
     "data": {
      "text/html": [
       "<pre style=\"white-space:pre;overflow-x:auto;line-height:normal;font-family:Menlo,'DejaVu Sans Mono',consolas,'Courier New',monospace\"></pre>\n"
      ],
      "text/plain": []
     },
     "metadata": {},
     "output_type": "display_data"
    },
    {
     "data": {
      "text/plain": [
       "\n",
       "id                     int64\n",
       "company_rating        object\n",
       "company_location      object\n",
       "total_fleet_count    float64\n",
       "iata_approved         object\n",
       "dtype: object"
      ]
     },
     "execution_count": 150,
     "metadata": {},
     "output_type": "execute_result"
    }
   ],
   "source": [
    "companies.dtypes"
   ]
  },
  {
   "cell_type": "markdown",
   "metadata": {},
   "source": [
    "### Let's examine iata_approved column alone for its data"
   ]
  },
  {
   "cell_type": "code",
   "execution_count": 151,
   "metadata": {},
   "outputs": [
    {
     "data": {
      "text/html": [
       "<pre style=\"white-space:pre;overflow-x:auto;line-height:normal;font-family:Menlo,'DejaVu Sans Mono',consolas,'Courier New',monospace\"></pre>\n"
      ],
      "text/plain": []
     },
     "metadata": {},
     "output_type": "display_data"
    },
    {
     "data": {
      "text/plain": [
       "\n",
       "\u001b[1;36m0\u001b[0m        f\n",
       "\u001b[1;36m1\u001b[0m        f\n",
       "\u001b[1;36m2\u001b[0m        f\n",
       "\u001b[1;36m3\u001b[0m        f\n",
       "\u001b[1;36m4\u001b[0m        t\n",
       "        ..\n",
       "\u001b[1;36m10014\u001b[0m    f\n",
       "\u001b[1;36m10015\u001b[0m    f\n",
       "\u001b[1;36m10016\u001b[0m    t\n",
       "\u001b[1;36m10017\u001b[0m    f\n",
       "\u001b[1;36m10018\u001b[0m    f\n",
       "Name: iata_approved, Length: \u001b[1;36m10019\u001b[0m, dtype: object"
      ]
     },
     "execution_count": 151,
     "metadata": {},
     "output_type": "execute_result"
    }
   ],
   "source": [
    "companies[\"iata_approved\"]"
   ]
  },
  {
   "cell_type": "code",
   "execution_count": 152,
   "metadata": {},
   "outputs": [
    {
     "data": {
      "text/html": [
       "<pre style=\"white-space:pre;overflow-x:auto;line-height:normal;font-family:Menlo,'DejaVu Sans Mono',consolas,'Courier New',monospace\"></pre>\n"
      ],
      "text/plain": []
     },
     "metadata": {},
     "output_type": "display_data"
    },
    {
     "data": {
      "text/plain": [
       "\n",
       "\u001b[1;36m0\u001b[0m        \u001b[3;91mFalse\u001b[0m\n",
       "\u001b[1;36m1\u001b[0m        \u001b[3;91mFalse\u001b[0m\n",
       "\u001b[1;36m2\u001b[0m        \u001b[3;91mFalse\u001b[0m\n",
       "\u001b[1;36m3\u001b[0m        \u001b[3;91mFalse\u001b[0m\n",
       "\u001b[1;36m4\u001b[0m         \u001b[3;92mTrue\u001b[0m\n",
       "         \u001b[33m...\u001b[0m  \n",
       "\u001b[1;36m10014\u001b[0m    \u001b[3;91mFalse\u001b[0m\n",
       "\u001b[1;36m10015\u001b[0m    \u001b[3;91mFalse\u001b[0m\n",
       "\u001b[1;36m10016\u001b[0m     \u001b[3;92mTrue\u001b[0m\n",
       "\u001b[1;36m10017\u001b[0m    \u001b[3;91mFalse\u001b[0m\n",
       "\u001b[1;36m10018\u001b[0m    \u001b[3;91mFalse\u001b[0m\n",
       "Name: iata_approved, Length: \u001b[1;36m10019\u001b[0m, dtype: bool"
      ]
     },
     "execution_count": 152,
     "metadata": {},
     "output_type": "execute_result"
    }
   ],
   "source": [
    "companies[\"iata_approved\"] == \"t\""
   ]
  },
  {
   "cell_type": "markdown",
   "metadata": {},
   "source": [
    "### BY USING FUNCTIONS, Let's use above strategy to change the dtype from object to bool"
   ]
  },
  {
   "cell_type": "code",
   "execution_count": 1,
   "metadata": {},
   "outputs": [],
   "source": [
    "import pandas as pd"
   ]
  },
  {
   "cell_type": "code",
   "execution_count": 154,
   "metadata": {},
   "outputs": [],
   "source": [
    "def _is_true(x: pd.Series) -> pd.Series:\n",
    "    return x == \"t\""
   ]
  },
  {
   "cell_type": "code",
   "execution_count": 155,
   "metadata": {},
   "outputs": [],
   "source": [
    "companies[\"iata_approved\"] = _is_true(companies[\"iata_approved\"])"
   ]
  },
  {
   "cell_type": "markdown",
   "metadata": {},
   "source": [
    "### quick confirmation whether dtype of column changed"
   ]
  },
  {
   "cell_type": "code",
   "execution_count": 156,
   "metadata": {},
   "outputs": [
    {
     "data": {
      "text/html": [
       "<pre style=\"white-space:pre;overflow-x:auto;line-height:normal;font-family:Menlo,'DejaVu Sans Mono',consolas,'Courier New',monospace\"></pre>\n"
      ],
      "text/plain": []
     },
     "metadata": {},
     "output_type": "display_data"
    },
    {
     "data": {
      "text/plain": [
       "\n",
       "id                     int64\n",
       "company_rating        object\n",
       "company_location      object\n",
       "total_fleet_count    float64\n",
       "iata_approved           bool\n",
       "dtype: object"
      ]
     },
     "execution_count": 156,
     "metadata": {},
     "output_type": "execute_result"
    }
   ],
   "source": [
    "companies.dtypes"
   ]
  },
  {
   "cell_type": "code",
   "execution_count": 157,
   "metadata": {},
   "outputs": [
    {
     "data": {
      "text/html": [
       "<pre style=\"white-space:pre;overflow-x:auto;line-height:normal;font-family:Menlo,'DejaVu Sans Mono',consolas,'Courier New',monospace\"></pre>\n"
      ],
      "text/plain": []
     },
     "metadata": {},
     "output_type": "display_data"
    },
    {
     "data": {
      "text/html": [
       "<div>\n",
       "<style scoped>\n",
       "    .dataframe tbody tr th:only-of-type {\n",
       "        vertical-align: middle;\n",
       "    }\n",
       "\n",
       "    .dataframe tbody tr th {\n",
       "        vertical-align: top;\n",
       "    }\n",
       "\n",
       "    .dataframe thead th {\n",
       "        text-align: right;\n",
       "    }\n",
       "</style>\n",
       "<table border=\"1\" class=\"dataframe\">\n",
       "  <thead>\n",
       "    <tr style=\"text-align: right;\">\n",
       "      <th></th>\n",
       "      <th>id</th>\n",
       "      <th>company_rating</th>\n",
       "      <th>company_location</th>\n",
       "      <th>total_fleet_count</th>\n",
       "      <th>iata_approved</th>\n",
       "    </tr>\n",
       "  </thead>\n",
       "  <tbody>\n",
       "    <tr>\n",
       "      <th>0</th>\n",
       "      <td>3888</td>\n",
       "      <td>100%</td>\n",
       "      <td>Isle of Man</td>\n",
       "      <td>1.0</td>\n",
       "      <td>False</td>\n",
       "    </tr>\n",
       "    <tr>\n",
       "      <th>1</th>\n",
       "      <td>46728</td>\n",
       "      <td>100%</td>\n",
       "      <td>NaN</td>\n",
       "      <td>1.0</td>\n",
       "      <td>False</td>\n",
       "    </tr>\n",
       "    <tr>\n",
       "      <th>2</th>\n",
       "      <td>34618</td>\n",
       "      <td>38%</td>\n",
       "      <td>Isle of Man</td>\n",
       "      <td>1.0</td>\n",
       "      <td>False</td>\n",
       "    </tr>\n",
       "    <tr>\n",
       "      <th>3</th>\n",
       "      <td>28619</td>\n",
       "      <td>100%</td>\n",
       "      <td>Bosnia and Herzegovina</td>\n",
       "      <td>1.0</td>\n",
       "      <td>False</td>\n",
       "    </tr>\n",
       "    <tr>\n",
       "      <th>4</th>\n",
       "      <td>8240</td>\n",
       "      <td>NaN</td>\n",
       "      <td>Chile</td>\n",
       "      <td>1.0</td>\n",
       "      <td>True</td>\n",
       "    </tr>\n",
       "  </tbody>\n",
       "</table>\n",
       "</div>"
      ],
      "text/plain": [
       "\n",
       "      id company_rating        company_location  total_fleet_count  \\\n",
       "\u001b[1;36m0\u001b[0m   \u001b[1;36m3888\u001b[0m           \u001b[1;36m100\u001b[0m%             Isle of Man                \u001b[1;36m1.0\u001b[0m   \n",
       "\u001b[1;36m1\u001b[0m  \u001b[1;36m46728\u001b[0m           \u001b[1;36m100\u001b[0m%                     NaN                \u001b[1;36m1.0\u001b[0m   \n",
       "\u001b[1;36m2\u001b[0m  \u001b[1;36m34618\u001b[0m            \u001b[1;36m38\u001b[0m%             Isle of Man                \u001b[1;36m1.0\u001b[0m   \n",
       "\u001b[1;36m3\u001b[0m  \u001b[1;36m28619\u001b[0m           \u001b[1;36m100\u001b[0m%  Bosnia and Herzegovina                \u001b[1;36m1.0\u001b[0m   \n",
       "\u001b[1;36m4\u001b[0m   \u001b[1;36m8240\u001b[0m            NaN                   Chile                \u001b[1;36m1.0\u001b[0m   \n",
       "\n",
       "   iata_approved  \n",
       "\u001b[1;36m0\u001b[0m          \u001b[3;91mFalse\u001b[0m  \n",
       "\u001b[1;36m1\u001b[0m          \u001b[3;91mFalse\u001b[0m  \n",
       "\u001b[1;36m2\u001b[0m          \u001b[3;91mFalse\u001b[0m  \n",
       "\u001b[1;36m3\u001b[0m          \u001b[3;91mFalse\u001b[0m  \n",
       "\u001b[1;36m4\u001b[0m           \u001b[3;92mTrue\u001b[0m  "
      ]
     },
     "execution_count": 157,
     "metadata": {},
     "output_type": "execute_result"
    }
   ],
   "source": [
    "companies.head()"
   ]
  },
  {
   "cell_type": "markdown",
   "metadata": {},
   "source": [
    "## Since the row 4 has some NaN for company_rating, Let's check the company_rating's column, does \"%\" makes sense"
   ]
  },
  {
   "cell_type": "code",
   "execution_count": 158,
   "metadata": {},
   "outputs": [
    {
     "data": {
      "text/html": [
       "<pre style=\"white-space:pre;overflow-x:auto;line-height:normal;font-family:Menlo,'DejaVu Sans Mono',consolas,'Courier New',monospace\"></pre>\n"
      ],
      "text/plain": []
     },
     "metadata": {},
     "output_type": "display_data"
    },
    {
     "data": {
      "text/plain": [
       "\n",
       "\u001b[1;36m0\u001b[0m        \u001b[1;36m100\u001b[0m%\n",
       "\u001b[1;36m1\u001b[0m        \u001b[1;36m100\u001b[0m%\n",
       "\u001b[1;36m2\u001b[0m         \u001b[1;36m38\u001b[0m%\n",
       "\u001b[1;36m3\u001b[0m        \u001b[1;36m100\u001b[0m%\n",
       "\u001b[1;36m4\u001b[0m         NaN\n",
       "         \u001b[33m...\u001b[0m \n",
       "\u001b[1;36m10014\u001b[0m     NaN\n",
       "\u001b[1;36m10015\u001b[0m    \u001b[1;36m100\u001b[0m%\n",
       "\u001b[1;36m10016\u001b[0m    \u001b[1;36m100\u001b[0m%\n",
       "\u001b[1;36m10017\u001b[0m    \u001b[1;36m100\u001b[0m%\n",
       "\u001b[1;36m10018\u001b[0m     \u001b[1;36m90\u001b[0m%\n",
       "Name: company_rating, Length: \u001b[1;36m10019\u001b[0m, dtype: object"
      ]
     },
     "execution_count": 158,
     "metadata": {},
     "output_type": "execute_result"
    }
   ],
   "source": [
    "companies[\"company_rating\"]"
   ]
  },
  {
   "cell_type": "code",
   "execution_count": 159,
   "metadata": {},
   "outputs": [
    {
     "data": {
      "text/html": [
       "<pre style=\"white-space:pre;overflow-x:auto;line-height:normal;font-family:Menlo,'DejaVu Sans Mono',consolas,'Courier New',monospace\"></pre>\n"
      ],
      "text/plain": []
     },
     "metadata": {},
     "output_type": "display_data"
    },
    {
     "data": {
      "text/plain": [
       "\n",
       "id                     int64\n",
       "company_rating        object\n",
       "company_location      object\n",
       "total_fleet_count    float64\n",
       "iata_approved           bool\n",
       "dtype: object"
      ]
     },
     "execution_count": 159,
     "metadata": {},
     "output_type": "execute_result"
    }
   ],
   "source": [
    "companies.dtypes"
   ]
  },
  {
   "cell_type": "code",
   "execution_count": 160,
   "metadata": {},
   "outputs": [
    {
     "data": {
      "text/html": [
       "<pre style=\"white-space:pre;overflow-x:auto;line-height:normal;font-family:Menlo,'DejaVu Sans Mono',consolas,'Courier New',monospace\"></pre>\n"
      ],
      "text/plain": []
     },
     "metadata": {},
     "output_type": "display_data"
    },
    {
     "data": {
      "text/plain": [
       "\n",
       "\u001b[1;36m0\u001b[0m        \u001b[1;36m100.0\u001b[0m\n",
       "\u001b[1;36m1\u001b[0m        \u001b[1;36m100.0\u001b[0m\n",
       "\u001b[1;36m2\u001b[0m         \u001b[1;36m38.0\u001b[0m\n",
       "\u001b[1;36m3\u001b[0m        \u001b[1;36m100.0\u001b[0m\n",
       "\u001b[1;36m4\u001b[0m          NaN\n",
       "         \u001b[33m...\u001b[0m  \n",
       "\u001b[1;36m10014\u001b[0m      NaN\n",
       "\u001b[1;36m10015\u001b[0m    \u001b[1;36m100.0\u001b[0m\n",
       "\u001b[1;36m10016\u001b[0m    \u001b[1;36m100.0\u001b[0m\n",
       "\u001b[1;36m10017\u001b[0m    \u001b[1;36m100.0\u001b[0m\n",
       "\u001b[1;36m10018\u001b[0m     \u001b[1;36m90.0\u001b[0m\n",
       "Name: company_rating, Length: \u001b[1;36m10019\u001b[0m, dtype: float64"
      ]
     },
     "execution_count": 160,
     "metadata": {},
     "output_type": "execute_result"
    }
   ],
   "source": [
    "companies[\"company_rating\"].str.replace(\"%\",\"\").astype(float)"
   ]
  },
  {
   "cell_type": "markdown",
   "metadata": {},
   "source": [
    "### Lets use above strategy to change the string to float for column: company_rating"
   ]
  },
  {
   "cell_type": "code",
   "execution_count": 161,
   "metadata": {},
   "outputs": [],
   "source": [
    "def _parse_percentage(x:pd.Series) -> pd.Series:\n",
    "    return x.str.replace(\"%\",\"\").astype(float)"
   ]
  },
  {
   "cell_type": "code",
   "execution_count": 162,
   "metadata": {},
   "outputs": [],
   "source": [
    "companies[\"company_rating\"]=_parse_percentage(companies[\"company_rating\"])"
   ]
  },
  {
   "cell_type": "markdown",
   "metadata": {},
   "source": [
    "### verify the column type changed for company_rating"
   ]
  },
  {
   "cell_type": "code",
   "execution_count": 163,
   "metadata": {},
   "outputs": [
    {
     "data": {
      "text/html": [
       "<pre style=\"white-space:pre;overflow-x:auto;line-height:normal;font-family:Menlo,'DejaVu Sans Mono',consolas,'Courier New',monospace\"></pre>\n"
      ],
      "text/plain": []
     },
     "metadata": {},
     "output_type": "display_data"
    },
    {
     "data": {
      "text/plain": [
       "\n",
       "id                     int64\n",
       "company_rating       float64\n",
       "company_location      object\n",
       "total_fleet_count    float64\n",
       "iata_approved           bool\n",
       "dtype: object"
      ]
     },
     "execution_count": 163,
     "metadata": {},
     "output_type": "execute_result"
    }
   ],
   "source": [
    "companies.dtypes"
   ]
  },
  {
   "cell_type": "markdown",
   "metadata": {},
   "source": [
    "### Verify the values as well"
   ]
  },
  {
   "cell_type": "code",
   "execution_count": 164,
   "metadata": {},
   "outputs": [
    {
     "data": {
      "text/html": [
       "<pre style=\"white-space:pre;overflow-x:auto;line-height:normal;font-family:Menlo,'DejaVu Sans Mono',consolas,'Courier New',monospace\"></pre>\n"
      ],
      "text/plain": []
     },
     "metadata": {},
     "output_type": "display_data"
    },
    {
     "data": {
      "text/html": [
       "<div>\n",
       "<style scoped>\n",
       "    .dataframe tbody tr th:only-of-type {\n",
       "        vertical-align: middle;\n",
       "    }\n",
       "\n",
       "    .dataframe tbody tr th {\n",
       "        vertical-align: top;\n",
       "    }\n",
       "\n",
       "    .dataframe thead th {\n",
       "        text-align: right;\n",
       "    }\n",
       "</style>\n",
       "<table border=\"1\" class=\"dataframe\">\n",
       "  <thead>\n",
       "    <tr style=\"text-align: right;\">\n",
       "      <th></th>\n",
       "      <th>id</th>\n",
       "      <th>company_rating</th>\n",
       "      <th>company_location</th>\n",
       "      <th>total_fleet_count</th>\n",
       "      <th>iata_approved</th>\n",
       "    </tr>\n",
       "  </thead>\n",
       "  <tbody>\n",
       "    <tr>\n",
       "      <th>0</th>\n",
       "      <td>3888</td>\n",
       "      <td>100.0</td>\n",
       "      <td>Isle of Man</td>\n",
       "      <td>1.0</td>\n",
       "      <td>False</td>\n",
       "    </tr>\n",
       "    <tr>\n",
       "      <th>1</th>\n",
       "      <td>46728</td>\n",
       "      <td>100.0</td>\n",
       "      <td>NaN</td>\n",
       "      <td>1.0</td>\n",
       "      <td>False</td>\n",
       "    </tr>\n",
       "    <tr>\n",
       "      <th>2</th>\n",
       "      <td>34618</td>\n",
       "      <td>38.0</td>\n",
       "      <td>Isle of Man</td>\n",
       "      <td>1.0</td>\n",
       "      <td>False</td>\n",
       "    </tr>\n",
       "    <tr>\n",
       "      <th>3</th>\n",
       "      <td>28619</td>\n",
       "      <td>100.0</td>\n",
       "      <td>Bosnia and Herzegovina</td>\n",
       "      <td>1.0</td>\n",
       "      <td>False</td>\n",
       "    </tr>\n",
       "    <tr>\n",
       "      <th>4</th>\n",
       "      <td>8240</td>\n",
       "      <td>NaN</td>\n",
       "      <td>Chile</td>\n",
       "      <td>1.0</td>\n",
       "      <td>True</td>\n",
       "    </tr>\n",
       "  </tbody>\n",
       "</table>\n",
       "</div>"
      ],
      "text/plain": [
       "\n",
       "      id  company_rating        company_location  total_fleet_count  \\\n",
       "\u001b[1;36m0\u001b[0m   \u001b[1;36m3888\u001b[0m           \u001b[1;36m100.0\u001b[0m             Isle of Man                \u001b[1;36m1.0\u001b[0m   \n",
       "\u001b[1;36m1\u001b[0m  \u001b[1;36m46728\u001b[0m           \u001b[1;36m100.0\u001b[0m                     NaN                \u001b[1;36m1.0\u001b[0m   \n",
       "\u001b[1;36m2\u001b[0m  \u001b[1;36m34618\u001b[0m            \u001b[1;36m38.0\u001b[0m             Isle of Man                \u001b[1;36m1.0\u001b[0m   \n",
       "\u001b[1;36m3\u001b[0m  \u001b[1;36m28619\u001b[0m           \u001b[1;36m100.0\u001b[0m  Bosnia and Herzegovina                \u001b[1;36m1.0\u001b[0m   \n",
       "\u001b[1;36m4\u001b[0m   \u001b[1;36m8240\u001b[0m             NaN                   Chile                \u001b[1;36m1.0\u001b[0m   \n",
       "\n",
       "   iata_approved  \n",
       "\u001b[1;36m0\u001b[0m          \u001b[3;91mFalse\u001b[0m  \n",
       "\u001b[1;36m1\u001b[0m          \u001b[3;91mFalse\u001b[0m  \n",
       "\u001b[1;36m2\u001b[0m          \u001b[3;91mFalse\u001b[0m  \n",
       "\u001b[1;36m3\u001b[0m          \u001b[3;91mFalse\u001b[0m  \n",
       "\u001b[1;36m4\u001b[0m           \u001b[3;92mTrue\u001b[0m  "
      ]
     },
     "execution_count": 164,
     "metadata": {},
     "output_type": "execute_result"
    }
   ],
   "source": [
    "companies.head()"
   ]
  },
  {
   "cell_type": "markdown",
   "metadata": {},
   "source": [
    "# Preprocessing for data catalog: Shuttles"
   ]
  },
  {
   "cell_type": "markdown",
   "metadata": {},
   "source": [
    "### Loading the data as data frame"
   ]
  },
  {
   "cell_type": "code",
   "execution_count": 165,
   "metadata": {},
   "outputs": [
    {
     "data": {
      "text/html": [
       "<pre style=\"white-space:pre;overflow-x:auto;line-height:normal;font-family:Menlo,'DejaVu Sans Mono',consolas,'Courier New',monospace\"><span style=\"color: #7fbfbf; text-decoration-color: #7fbfbf\">[06/23/24 22:32:24] </span><span style=\"color: #000080; text-decoration-color: #000080\">INFO    </span> Loading data from <span style=\"color: #ff8700; text-decoration-color: #ff8700\">shuttles</span> <span style=\"font-weight: bold\">(</span>ExcelDataset<span style=\"font-weight: bold\">)</span><span style=\"color: #808000; text-decoration-color: #808000\">...</span>                       <a href=\"file:///home/mak/anaconda3/envs/kedro-environment/lib/python3.10/site-packages/kedro/io/data_catalog.py\" target=\"_blank\"><span style=\"color: #7f7f7f; text-decoration-color: #7f7f7f\">data_catalog.py</span></a><span style=\"color: #7f7f7f; text-decoration-color: #7f7f7f\">:</span><a href=\"file:///home/mak/anaconda3/envs/kedro-environment/lib/python3.10/site-packages/kedro/io/data_catalog.py#508\" target=\"_blank\"><span style=\"color: #7f7f7f; text-decoration-color: #7f7f7f\">508</span></a>\n",
       "</pre>\n"
      ],
      "text/plain": [
       "\u001b[2;36m[06/23/24 22:32:24]\u001b[0m\u001b[2;36m \u001b[0m\u001b[34mINFO    \u001b[0m Loading data from \u001b[38;5;208mshuttles\u001b[0m \u001b[1m(\u001b[0mExcelDataset\u001b[1m)\u001b[0m\u001b[33m...\u001b[0m                       \u001b]8;id=362135;file:///home/mak/anaconda3/envs/kedro-environment/lib/python3.10/site-packages/kedro/io/data_catalog.py\u001b\\\u001b[2mdata_catalog.py\u001b[0m\u001b]8;;\u001b\\\u001b[2m:\u001b[0m\u001b]8;id=696233;file:///home/mak/anaconda3/envs/kedro-environment/lib/python3.10/site-packages/kedro/io/data_catalog.py#508\u001b\\\u001b[2m508\u001b[0m\u001b]8;;\u001b\\\n"
      ]
     },
     "metadata": {},
     "output_type": "display_data"
    }
   ],
   "source": [
    "shuttles = catalog.load(\"shuttles\")"
   ]
  },
  {
   "cell_type": "code",
   "execution_count": 166,
   "metadata": {},
   "outputs": [
    {
     "data": {
      "text/html": [
       "<pre style=\"white-space:pre;overflow-x:auto;line-height:normal;font-family:Menlo,'DejaVu Sans Mono',consolas,'Courier New',monospace\"></pre>\n"
      ],
      "text/plain": []
     },
     "metadata": {},
     "output_type": "display_data"
    },
    {
     "data": {
      "text/html": [
       "<div>\n",
       "<style scoped>\n",
       "    .dataframe tbody tr th:only-of-type {\n",
       "        vertical-align: middle;\n",
       "    }\n",
       "\n",
       "    .dataframe tbody tr th {\n",
       "        vertical-align: top;\n",
       "    }\n",
       "\n",
       "    .dataframe thead th {\n",
       "        text-align: right;\n",
       "    }\n",
       "</style>\n",
       "<table border=\"1\" class=\"dataframe\">\n",
       "  <thead>\n",
       "    <tr style=\"text-align: right;\">\n",
       "      <th></th>\n",
       "      <th>id</th>\n",
       "      <th>shuttle_location</th>\n",
       "      <th>shuttle_type</th>\n",
       "      <th>engine_type</th>\n",
       "      <th>engine_vendor</th>\n",
       "      <th>engines</th>\n",
       "      <th>passenger_capacity</th>\n",
       "      <th>cancellation_policy</th>\n",
       "      <th>crew</th>\n",
       "      <th>d_check_complete</th>\n",
       "      <th>moon_clearance_complete</th>\n",
       "      <th>price</th>\n",
       "      <th>company_id</th>\n",
       "    </tr>\n",
       "  </thead>\n",
       "  <tbody>\n",
       "    <tr>\n",
       "      <th>0</th>\n",
       "      <td>45163</td>\n",
       "      <td>Sao Tome and Principe</td>\n",
       "      <td>Type V5</td>\n",
       "      <td>Plasma</td>\n",
       "      <td>ThetaBase Services</td>\n",
       "      <td>2.0</td>\n",
       "      <td>4</td>\n",
       "      <td>moderate</td>\n",
       "      <td>2.0</td>\n",
       "      <td>f</td>\n",
       "      <td>f</td>\n",
       "      <td>$1,715.0</td>\n",
       "      <td>32413</td>\n",
       "    </tr>\n",
       "    <tr>\n",
       "      <th>1</th>\n",
       "      <td>49438</td>\n",
       "      <td>Wallis and Futuna</td>\n",
       "      <td>Type V2</td>\n",
       "      <td>Plasma</td>\n",
       "      <td>ThetaBase Services</td>\n",
       "      <td>3.0</td>\n",
       "      <td>5</td>\n",
       "      <td>moderate</td>\n",
       "      <td>3.0</td>\n",
       "      <td>f</td>\n",
       "      <td>f</td>\n",
       "      <td>$3,405.0</td>\n",
       "      <td>14122</td>\n",
       "    </tr>\n",
       "    <tr>\n",
       "      <th>2</th>\n",
       "      <td>10750</td>\n",
       "      <td>Niue</td>\n",
       "      <td>Type F5</td>\n",
       "      <td>Quantum</td>\n",
       "      <td>ThetaBase Services</td>\n",
       "      <td>1.0</td>\n",
       "      <td>2</td>\n",
       "      <td>strict</td>\n",
       "      <td>1.0</td>\n",
       "      <td>t</td>\n",
       "      <td>f</td>\n",
       "      <td>$1,806.0</td>\n",
       "      <td>47761</td>\n",
       "    </tr>\n",
       "    <tr>\n",
       "      <th>3</th>\n",
       "      <td>4146</td>\n",
       "      <td>Malta</td>\n",
       "      <td>Type V2</td>\n",
       "      <td>Quantum</td>\n",
       "      <td>ThetaBase Services</td>\n",
       "      <td>1.0</td>\n",
       "      <td>2</td>\n",
       "      <td>moderate</td>\n",
       "      <td>1.0</td>\n",
       "      <td>f</td>\n",
       "      <td>f</td>\n",
       "      <td>$1,676.0</td>\n",
       "      <td>26648</td>\n",
       "    </tr>\n",
       "    <tr>\n",
       "      <th>4</th>\n",
       "      <td>5067</td>\n",
       "      <td>Malta</td>\n",
       "      <td>Type V2</td>\n",
       "      <td>Plasma</td>\n",
       "      <td>ThetaBase Services</td>\n",
       "      <td>5.0</td>\n",
       "      <td>10</td>\n",
       "      <td>strict</td>\n",
       "      <td>5.0</td>\n",
       "      <td>f</td>\n",
       "      <td>f</td>\n",
       "      <td>$4,718.0</td>\n",
       "      <td>26648</td>\n",
       "    </tr>\n",
       "  </tbody>\n",
       "</table>\n",
       "</div>"
      ],
      "text/plain": [
       "\n",
       "      id       shuttle_location shuttle_type engine_type       engine_vendor  \\\n",
       "\u001b[1;36m0\u001b[0m  \u001b[1;36m45163\u001b[0m  Sao Tome and Principe      Type V5      Plasma  ThetaBase Services   \n",
       "\u001b[1;36m1\u001b[0m  \u001b[1;36m49438\u001b[0m      Wallis and Futuna      Type V2      Plasma  ThetaBase Services   \n",
       "\u001b[1;36m2\u001b[0m  \u001b[1;36m10750\u001b[0m                   Niue      Type F5     Quantum  ThetaBase Services   \n",
       "\u001b[1;36m3\u001b[0m   \u001b[1;36m4146\u001b[0m                  Malta      Type V2     Quantum  ThetaBase Services   \n",
       "\u001b[1;36m4\u001b[0m   \u001b[1;36m5067\u001b[0m                  Malta      Type V2      Plasma  ThetaBase Services   \n",
       "\n",
       "   engines  passenger_capacity cancellation_policy  crew d_check_complete  \\\n",
       "\u001b[1;36m0\u001b[0m      \u001b[1;36m2.0\u001b[0m                   \u001b[1;36m4\u001b[0m            moderate   \u001b[1;36m2.0\u001b[0m                f   \n",
       "\u001b[1;36m1\u001b[0m      \u001b[1;36m3.0\u001b[0m                   \u001b[1;36m5\u001b[0m            moderate   \u001b[1;36m3.0\u001b[0m                f   \n",
       "\u001b[1;36m2\u001b[0m      \u001b[1;36m1.0\u001b[0m                   \u001b[1;36m2\u001b[0m              strict   \u001b[1;36m1.0\u001b[0m                t   \n",
       "\u001b[1;36m3\u001b[0m      \u001b[1;36m1.0\u001b[0m                   \u001b[1;36m2\u001b[0m            moderate   \u001b[1;36m1.0\u001b[0m                f   \n",
       "\u001b[1;36m4\u001b[0m      \u001b[1;36m5.0\u001b[0m                  \u001b[1;36m10\u001b[0m              strict   \u001b[1;36m5.0\u001b[0m                f   \n",
       "\n",
       "  moon_clearance_complete     price  company_id  \n",
       "\u001b[1;36m0\u001b[0m                       f  $\u001b[1;36m1\u001b[0m,\u001b[1;36m715.0\u001b[0m       \u001b[1;36m32413\u001b[0m  \n",
       "\u001b[1;36m1\u001b[0m                       f  $\u001b[1;36m3\u001b[0m,\u001b[1;36m405.0\u001b[0m       \u001b[1;36m14122\u001b[0m  \n",
       "\u001b[1;36m2\u001b[0m                       f  $\u001b[1;36m1\u001b[0m,\u001b[1;36m806.0\u001b[0m       \u001b[1;36m47761\u001b[0m  \n",
       "\u001b[1;36m3\u001b[0m                       f  $\u001b[1;36m1\u001b[0m,\u001b[1;36m676.0\u001b[0m       \u001b[1;36m26648\u001b[0m  \n",
       "\u001b[1;36m4\u001b[0m                       f  $\u001b[1;36m4\u001b[0m,\u001b[1;36m718.0\u001b[0m       \u001b[1;36m26648\u001b[0m  "
      ]
     },
     "execution_count": 166,
     "metadata": {},
     "output_type": "execute_result"
    }
   ],
   "source": [
    "shuttles.head()"
   ]
  },
  {
   "cell_type": "markdown",
   "metadata": {},
   "source": [
    "### the d_check_complete, moon_clearance_complete expected to be in boolean. let' replace t and f, the string type to boolean True and False"
   ]
  },
  {
   "cell_type": "code",
   "execution_count": 167,
   "metadata": {},
   "outputs": [
    {
     "data": {
      "text/html": [
       "<pre style=\"white-space:pre;overflow-x:auto;line-height:normal;font-family:Menlo,'DejaVu Sans Mono',consolas,'Courier New',monospace\"></pre>\n"
      ],
      "text/plain": []
     },
     "metadata": {},
     "output_type": "display_data"
    },
    {
     "data": {
      "text/plain": [
       "\n",
       "id                           int64\n",
       "shuttle_location            object\n",
       "shuttle_type                object\n",
       "engine_type                 object\n",
       "engine_vendor               object\n",
       "engines                    float64\n",
       "passenger_capacity           int64\n",
       "cancellation_policy         object\n",
       "crew                       float64\n",
       "d_check_complete            object\n",
       "moon_clearance_complete     object\n",
       "price                       object\n",
       "company_id                   int64\n",
       "dtype: object"
      ]
     },
     "execution_count": 167,
     "metadata": {},
     "output_type": "execute_result"
    }
   ],
   "source": [
    "shuttles.dtypes"
   ]
  },
  {
   "cell_type": "markdown",
   "metadata": {},
   "source": [
    "### slice the dataframe to look for any more occurences of data to be converted as boolean"
   ]
  },
  {
   "cell_type": "code",
   "execution_count": 168,
   "metadata": {},
   "outputs": [
    {
     "data": {
      "text/html": [
       "<pre style=\"white-space:pre;overflow-x:auto;line-height:normal;font-family:Menlo,'DejaVu Sans Mono',consolas,'Courier New',monospace\"></pre>\n"
      ],
      "text/plain": []
     },
     "metadata": {},
     "output_type": "display_data"
    },
    {
     "data": {
      "text/html": [
       "<div>\n",
       "<style scoped>\n",
       "    .dataframe tbody tr th:only-of-type {\n",
       "        vertical-align: middle;\n",
       "    }\n",
       "\n",
       "    .dataframe tbody tr th {\n",
       "        vertical-align: top;\n",
       "    }\n",
       "\n",
       "    .dataframe thead th {\n",
       "        text-align: right;\n",
       "    }\n",
       "</style>\n",
       "<table border=\"1\" class=\"dataframe\">\n",
       "  <thead>\n",
       "    <tr style=\"text-align: right;\">\n",
       "      <th></th>\n",
       "      <th>engines</th>\n",
       "      <th>passenger_capacity</th>\n",
       "      <th>cancellation_policy</th>\n",
       "      <th>crew</th>\n",
       "      <th>d_check_complete</th>\n",
       "      <th>moon_clearance_complete</th>\n",
       "      <th>price</th>\n",
       "      <th>company_id</th>\n",
       "    </tr>\n",
       "  </thead>\n",
       "  <tbody>\n",
       "    <tr>\n",
       "      <th>0</th>\n",
       "      <td>2.0</td>\n",
       "      <td>4</td>\n",
       "      <td>moderate</td>\n",
       "      <td>2.0</td>\n",
       "      <td>f</td>\n",
       "      <td>f</td>\n",
       "      <td>$1,715.0</td>\n",
       "      <td>32413</td>\n",
       "    </tr>\n",
       "    <tr>\n",
       "      <th>1</th>\n",
       "      <td>3.0</td>\n",
       "      <td>5</td>\n",
       "      <td>moderate</td>\n",
       "      <td>3.0</td>\n",
       "      <td>f</td>\n",
       "      <td>f</td>\n",
       "      <td>$3,405.0</td>\n",
       "      <td>14122</td>\n",
       "    </tr>\n",
       "    <tr>\n",
       "      <th>2</th>\n",
       "      <td>1.0</td>\n",
       "      <td>2</td>\n",
       "      <td>strict</td>\n",
       "      <td>1.0</td>\n",
       "      <td>t</td>\n",
       "      <td>f</td>\n",
       "      <td>$1,806.0</td>\n",
       "      <td>47761</td>\n",
       "    </tr>\n",
       "    <tr>\n",
       "      <th>3</th>\n",
       "      <td>1.0</td>\n",
       "      <td>2</td>\n",
       "      <td>moderate</td>\n",
       "      <td>1.0</td>\n",
       "      <td>f</td>\n",
       "      <td>f</td>\n",
       "      <td>$1,676.0</td>\n",
       "      <td>26648</td>\n",
       "    </tr>\n",
       "    <tr>\n",
       "      <th>4</th>\n",
       "      <td>5.0</td>\n",
       "      <td>10</td>\n",
       "      <td>strict</td>\n",
       "      <td>5.0</td>\n",
       "      <td>f</td>\n",
       "      <td>f</td>\n",
       "      <td>$4,718.0</td>\n",
       "      <td>26648</td>\n",
       "    </tr>\n",
       "    <tr>\n",
       "      <th>...</th>\n",
       "      <td>...</td>\n",
       "      <td>...</td>\n",
       "      <td>...</td>\n",
       "      <td>...</td>\n",
       "      <td>...</td>\n",
       "      <td>...</td>\n",
       "      <td>...</td>\n",
       "      <td>...</td>\n",
       "    </tr>\n",
       "    <tr>\n",
       "      <th>15526</th>\n",
       "      <td>1.0</td>\n",
       "      <td>2</td>\n",
       "      <td>flexible</td>\n",
       "      <td>1.0</td>\n",
       "      <td>t</td>\n",
       "      <td>f</td>\n",
       "      <td>$2,040.0</td>\n",
       "      <td>5816</td>\n",
       "    </tr>\n",
       "    <tr>\n",
       "      <th>15527</th>\n",
       "      <td>1.0</td>\n",
       "      <td>1</td>\n",
       "      <td>strict</td>\n",
       "      <td>1.0</td>\n",
       "      <td>t</td>\n",
       "      <td>f</td>\n",
       "      <td>$1,260.0</td>\n",
       "      <td>19010</td>\n",
       "    </tr>\n",
       "    <tr>\n",
       "      <th>15528</th>\n",
       "      <td>2.0</td>\n",
       "      <td>4</td>\n",
       "      <td>flexible</td>\n",
       "      <td>2.0</td>\n",
       "      <td>t</td>\n",
       "      <td>f</td>\n",
       "      <td>$4,107.0</td>\n",
       "      <td>6654</td>\n",
       "    </tr>\n",
       "    <tr>\n",
       "      <th>15529</th>\n",
       "      <td>1.0</td>\n",
       "      <td>2</td>\n",
       "      <td>flexible</td>\n",
       "      <td>1.0</td>\n",
       "      <td>t</td>\n",
       "      <td>f</td>\n",
       "      <td>$2,170.0</td>\n",
       "      <td>27363</td>\n",
       "    </tr>\n",
       "    <tr>\n",
       "      <th>15530</th>\n",
       "      <td>0.0</td>\n",
       "      <td>2</td>\n",
       "      <td>moderate</td>\n",
       "      <td>2.0</td>\n",
       "      <td>t</td>\n",
       "      <td>f</td>\n",
       "      <td>$1,455.0</td>\n",
       "      <td>12542</td>\n",
       "    </tr>\n",
       "  </tbody>\n",
       "</table>\n",
       "<p>15531 rows × 8 columns</p>\n",
       "</div>"
      ],
      "text/plain": [
       "\n",
       "       engines  passenger_capacity cancellation_policy  crew d_check_complete  \\\n",
       "\u001b[1;36m0\u001b[0m          \u001b[1;36m2.0\u001b[0m                   \u001b[1;36m4\u001b[0m            moderate   \u001b[1;36m2.0\u001b[0m                f   \n",
       "\u001b[1;36m1\u001b[0m          \u001b[1;36m3.0\u001b[0m                   \u001b[1;36m5\u001b[0m            moderate   \u001b[1;36m3.0\u001b[0m                f   \n",
       "\u001b[1;36m2\u001b[0m          \u001b[1;36m1.0\u001b[0m                   \u001b[1;36m2\u001b[0m              strict   \u001b[1;36m1.0\u001b[0m                t   \n",
       "\u001b[1;36m3\u001b[0m          \u001b[1;36m1.0\u001b[0m                   \u001b[1;36m2\u001b[0m            moderate   \u001b[1;36m1.0\u001b[0m                f   \n",
       "\u001b[1;36m4\u001b[0m          \u001b[1;36m5.0\u001b[0m                  \u001b[1;36m10\u001b[0m              strict   \u001b[1;36m5.0\u001b[0m                f   \n",
       "\u001b[33m...\u001b[0m        \u001b[33m...\u001b[0m                 \u001b[33m...\u001b[0m                 \u001b[33m...\u001b[0m   \u001b[33m...\u001b[0m              \u001b[33m...\u001b[0m   \n",
       "\u001b[1;36m15526\u001b[0m      \u001b[1;36m1.0\u001b[0m                   \u001b[1;36m2\u001b[0m            flexible   \u001b[1;36m1.0\u001b[0m                t   \n",
       "\u001b[1;36m15527\u001b[0m      \u001b[1;36m1.0\u001b[0m                   \u001b[1;36m1\u001b[0m              strict   \u001b[1;36m1.0\u001b[0m                t   \n",
       "\u001b[1;36m15528\u001b[0m      \u001b[1;36m2.0\u001b[0m                   \u001b[1;36m4\u001b[0m            flexible   \u001b[1;36m2.0\u001b[0m                t   \n",
       "\u001b[1;36m15529\u001b[0m      \u001b[1;36m1.0\u001b[0m                   \u001b[1;36m2\u001b[0m            flexible   \u001b[1;36m1.0\u001b[0m                t   \n",
       "\u001b[1;36m15530\u001b[0m      \u001b[1;36m0.0\u001b[0m                   \u001b[1;36m2\u001b[0m            moderate   \u001b[1;36m2.0\u001b[0m                t   \n",
       "\n",
       "      moon_clearance_complete     price  company_id  \n",
       "\u001b[1;36m0\u001b[0m                           f  $\u001b[1;36m1\u001b[0m,\u001b[1;36m715.0\u001b[0m       \u001b[1;36m32413\u001b[0m  \n",
       "\u001b[1;36m1\u001b[0m                           f  $\u001b[1;36m3\u001b[0m,\u001b[1;36m405.0\u001b[0m       \u001b[1;36m14122\u001b[0m  \n",
       "\u001b[1;36m2\u001b[0m                           f  $\u001b[1;36m1\u001b[0m,\u001b[1;36m806.0\u001b[0m       \u001b[1;36m47761\u001b[0m  \n",
       "\u001b[1;36m3\u001b[0m                           f  $\u001b[1;36m1\u001b[0m,\u001b[1;36m676.0\u001b[0m       \u001b[1;36m26648\u001b[0m  \n",
       "\u001b[1;36m4\u001b[0m                           f  $\u001b[1;36m4\u001b[0m,\u001b[1;36m718.0\u001b[0m       \u001b[1;36m26648\u001b[0m  \n",
       "\u001b[33m...\u001b[0m                       \u001b[33m...\u001b[0m       \u001b[33m...\u001b[0m         \u001b[33m...\u001b[0m  \n",
       "\u001b[1;36m15526\u001b[0m                       f  $\u001b[1;36m2\u001b[0m,\u001b[1;36m040.0\u001b[0m        \u001b[1;36m5816\u001b[0m  \n",
       "\u001b[1;36m15527\u001b[0m                       f  $\u001b[1;36m1\u001b[0m,\u001b[1;36m260.0\u001b[0m       \u001b[1;36m19010\u001b[0m  \n",
       "\u001b[1;36m15528\u001b[0m                       f  $\u001b[1;36m4\u001b[0m,\u001b[1;36m107.0\u001b[0m        \u001b[1;36m6654\u001b[0m  \n",
       "\u001b[1;36m15529\u001b[0m                       f  $\u001b[1;36m2\u001b[0m,\u001b[1;36m170.0\u001b[0m       \u001b[1;36m27363\u001b[0m  \n",
       "\u001b[1;36m15530\u001b[0m                       f  $\u001b[1;36m1\u001b[0m,\u001b[1;36m455.0\u001b[0m       \u001b[1;36m12542\u001b[0m  \n",
       "\n",
       "\u001b[1m[\u001b[0m\u001b[1;36m15531\u001b[0m rows x \u001b[1;36m8\u001b[0m columns\u001b[1m]\u001b[0m"
      ]
     },
     "execution_count": 168,
     "metadata": {},
     "output_type": "execute_result"
    }
   ],
   "source": [
    "shuttles.iloc[:,5:]"
   ]
  },
  {
   "cell_type": "code",
   "execution_count": 169,
   "metadata": {},
   "outputs": [],
   "source": [
    "shuttles[\"d_check_complete\"] = _is_true(shuttles[\"d_check_complete\"])\n",
    "shuttles[\"moon_clearance_complete\"] = _is_true(shuttles[\"moon_clearance_complete\"])"
   ]
  },
  {
   "cell_type": "markdown",
   "metadata": {},
   "source": [
    "### Verify the datatypes for the columns we intented to change"
   ]
  },
  {
   "cell_type": "code",
   "execution_count": 170,
   "metadata": {},
   "outputs": [
    {
     "data": {
      "text/html": [
       "<pre style=\"white-space:pre;overflow-x:auto;line-height:normal;font-family:Menlo,'DejaVu Sans Mono',consolas,'Courier New',monospace\"></pre>\n"
      ],
      "text/plain": []
     },
     "metadata": {},
     "output_type": "display_data"
    },
    {
     "data": {
      "text/plain": [
       "\n",
       "id                           int64\n",
       "shuttle_location            object\n",
       "shuttle_type                object\n",
       "engine_type                 object\n",
       "engine_vendor               object\n",
       "engines                    float64\n",
       "passenger_capacity           int64\n",
       "cancellation_policy         object\n",
       "crew                       float64\n",
       "d_check_complete              bool\n",
       "moon_clearance_complete       bool\n",
       "price                       object\n",
       "company_id                   int64\n",
       "dtype: object"
      ]
     },
     "execution_count": 170,
     "metadata": {},
     "output_type": "execute_result"
    }
   ],
   "source": [
    "shuttles.dtypes"
   ]
  },
  {
   "cell_type": "markdown",
   "metadata": {},
   "source": [
    "### Next change the price column to float by converting the string value, drop $ and comma"
   ]
  },
  {
   "cell_type": "code",
   "execution_count": 171,
   "metadata": {},
   "outputs": [],
   "source": [
    "def _parse_money(x:pd.Series) -> pd.Series:\n",
    "    return x.str.replace(\"$\",\"\").str.replace(\",\",\"\").astype(float)"
   ]
  },
  {
   "cell_type": "code",
   "execution_count": 172,
   "metadata": {},
   "outputs": [],
   "source": [
    "shuttles[\"price\"]=_parse_money(shuttles[\"price\"])"
   ]
  },
  {
   "cell_type": "markdown",
   "metadata": {},
   "source": [
    "### the changed type and its value are verified"
   ]
  },
  {
   "cell_type": "code",
   "execution_count": 173,
   "metadata": {},
   "outputs": [
    {
     "data": {
      "text/html": [
       "<pre style=\"white-space:pre;overflow-x:auto;line-height:normal;font-family:Menlo,'DejaVu Sans Mono',consolas,'Courier New',monospace\"></pre>\n"
      ],
      "text/plain": []
     },
     "metadata": {},
     "output_type": "display_data"
    },
    {
     "data": {
      "text/plain": [
       "\n",
       "id                           int64\n",
       "shuttle_location            object\n",
       "shuttle_type                object\n",
       "engine_type                 object\n",
       "engine_vendor               object\n",
       "engines                    float64\n",
       "passenger_capacity           int64\n",
       "cancellation_policy         object\n",
       "crew                       float64\n",
       "d_check_complete              bool\n",
       "moon_clearance_complete       bool\n",
       "price                      float64\n",
       "company_id                   int64\n",
       "dtype: object"
      ]
     },
     "execution_count": 173,
     "metadata": {},
     "output_type": "execute_result"
    }
   ],
   "source": [
    "shuttles.dtypes"
   ]
  },
  {
   "cell_type": "code",
   "execution_count": 174,
   "metadata": {},
   "outputs": [
    {
     "data": {
      "text/html": [
       "<pre style=\"white-space:pre;overflow-x:auto;line-height:normal;font-family:Menlo,'DejaVu Sans Mono',consolas,'Courier New',monospace\"></pre>\n"
      ],
      "text/plain": []
     },
     "metadata": {},
     "output_type": "display_data"
    },
    {
     "data": {
      "text/html": [
       "<div>\n",
       "<style scoped>\n",
       "    .dataframe tbody tr th:only-of-type {\n",
       "        vertical-align: middle;\n",
       "    }\n",
       "\n",
       "    .dataframe tbody tr th {\n",
       "        vertical-align: top;\n",
       "    }\n",
       "\n",
       "    .dataframe thead th {\n",
       "        text-align: right;\n",
       "    }\n",
       "</style>\n",
       "<table border=\"1\" class=\"dataframe\">\n",
       "  <thead>\n",
       "    <tr style=\"text-align: right;\">\n",
       "      <th></th>\n",
       "      <th>engines</th>\n",
       "      <th>passenger_capacity</th>\n",
       "      <th>cancellation_policy</th>\n",
       "      <th>crew</th>\n",
       "      <th>d_check_complete</th>\n",
       "      <th>moon_clearance_complete</th>\n",
       "      <th>price</th>\n",
       "      <th>company_id</th>\n",
       "    </tr>\n",
       "  </thead>\n",
       "  <tbody>\n",
       "    <tr>\n",
       "      <th>0</th>\n",
       "      <td>2.0</td>\n",
       "      <td>4</td>\n",
       "      <td>moderate</td>\n",
       "      <td>2.0</td>\n",
       "      <td>False</td>\n",
       "      <td>False</td>\n",
       "      <td>1715.0</td>\n",
       "      <td>32413</td>\n",
       "    </tr>\n",
       "    <tr>\n",
       "      <th>1</th>\n",
       "      <td>3.0</td>\n",
       "      <td>5</td>\n",
       "      <td>moderate</td>\n",
       "      <td>3.0</td>\n",
       "      <td>False</td>\n",
       "      <td>False</td>\n",
       "      <td>3405.0</td>\n",
       "      <td>14122</td>\n",
       "    </tr>\n",
       "    <tr>\n",
       "      <th>2</th>\n",
       "      <td>1.0</td>\n",
       "      <td>2</td>\n",
       "      <td>strict</td>\n",
       "      <td>1.0</td>\n",
       "      <td>True</td>\n",
       "      <td>False</td>\n",
       "      <td>1806.0</td>\n",
       "      <td>47761</td>\n",
       "    </tr>\n",
       "    <tr>\n",
       "      <th>3</th>\n",
       "      <td>1.0</td>\n",
       "      <td>2</td>\n",
       "      <td>moderate</td>\n",
       "      <td>1.0</td>\n",
       "      <td>False</td>\n",
       "      <td>False</td>\n",
       "      <td>1676.0</td>\n",
       "      <td>26648</td>\n",
       "    </tr>\n",
       "    <tr>\n",
       "      <th>4</th>\n",
       "      <td>5.0</td>\n",
       "      <td>10</td>\n",
       "      <td>strict</td>\n",
       "      <td>5.0</td>\n",
       "      <td>False</td>\n",
       "      <td>False</td>\n",
       "      <td>4718.0</td>\n",
       "      <td>26648</td>\n",
       "    </tr>\n",
       "    <tr>\n",
       "      <th>...</th>\n",
       "      <td>...</td>\n",
       "      <td>...</td>\n",
       "      <td>...</td>\n",
       "      <td>...</td>\n",
       "      <td>...</td>\n",
       "      <td>...</td>\n",
       "      <td>...</td>\n",
       "      <td>...</td>\n",
       "    </tr>\n",
       "    <tr>\n",
       "      <th>15526</th>\n",
       "      <td>1.0</td>\n",
       "      <td>2</td>\n",
       "      <td>flexible</td>\n",
       "      <td>1.0</td>\n",
       "      <td>True</td>\n",
       "      <td>False</td>\n",
       "      <td>2040.0</td>\n",
       "      <td>5816</td>\n",
       "    </tr>\n",
       "    <tr>\n",
       "      <th>15527</th>\n",
       "      <td>1.0</td>\n",
       "      <td>1</td>\n",
       "      <td>strict</td>\n",
       "      <td>1.0</td>\n",
       "      <td>True</td>\n",
       "      <td>False</td>\n",
       "      <td>1260.0</td>\n",
       "      <td>19010</td>\n",
       "    </tr>\n",
       "    <tr>\n",
       "      <th>15528</th>\n",
       "      <td>2.0</td>\n",
       "      <td>4</td>\n",
       "      <td>flexible</td>\n",
       "      <td>2.0</td>\n",
       "      <td>True</td>\n",
       "      <td>False</td>\n",
       "      <td>4107.0</td>\n",
       "      <td>6654</td>\n",
       "    </tr>\n",
       "    <tr>\n",
       "      <th>15529</th>\n",
       "      <td>1.0</td>\n",
       "      <td>2</td>\n",
       "      <td>flexible</td>\n",
       "      <td>1.0</td>\n",
       "      <td>True</td>\n",
       "      <td>False</td>\n",
       "      <td>2170.0</td>\n",
       "      <td>27363</td>\n",
       "    </tr>\n",
       "    <tr>\n",
       "      <th>15530</th>\n",
       "      <td>0.0</td>\n",
       "      <td>2</td>\n",
       "      <td>moderate</td>\n",
       "      <td>2.0</td>\n",
       "      <td>True</td>\n",
       "      <td>False</td>\n",
       "      <td>1455.0</td>\n",
       "      <td>12542</td>\n",
       "    </tr>\n",
       "  </tbody>\n",
       "</table>\n",
       "<p>15531 rows × 8 columns</p>\n",
       "</div>"
      ],
      "text/plain": [
       "\n",
       "       engines  passenger_capacity cancellation_policy  crew  \\\n",
       "\u001b[1;36m0\u001b[0m          \u001b[1;36m2.0\u001b[0m                   \u001b[1;36m4\u001b[0m            moderate   \u001b[1;36m2.0\u001b[0m   \n",
       "\u001b[1;36m1\u001b[0m          \u001b[1;36m3.0\u001b[0m                   \u001b[1;36m5\u001b[0m            moderate   \u001b[1;36m3.0\u001b[0m   \n",
       "\u001b[1;36m2\u001b[0m          \u001b[1;36m1.0\u001b[0m                   \u001b[1;36m2\u001b[0m              strict   \u001b[1;36m1.0\u001b[0m   \n",
       "\u001b[1;36m3\u001b[0m          \u001b[1;36m1.0\u001b[0m                   \u001b[1;36m2\u001b[0m            moderate   \u001b[1;36m1.0\u001b[0m   \n",
       "\u001b[1;36m4\u001b[0m          \u001b[1;36m5.0\u001b[0m                  \u001b[1;36m10\u001b[0m              strict   \u001b[1;36m5.0\u001b[0m   \n",
       "\u001b[33m...\u001b[0m        \u001b[33m...\u001b[0m                 \u001b[33m...\u001b[0m                 \u001b[33m...\u001b[0m   \u001b[33m...\u001b[0m   \n",
       "\u001b[1;36m15526\u001b[0m      \u001b[1;36m1.0\u001b[0m                   \u001b[1;36m2\u001b[0m            flexible   \u001b[1;36m1.0\u001b[0m   \n",
       "\u001b[1;36m15527\u001b[0m      \u001b[1;36m1.0\u001b[0m                   \u001b[1;36m1\u001b[0m              strict   \u001b[1;36m1.0\u001b[0m   \n",
       "\u001b[1;36m15528\u001b[0m      \u001b[1;36m2.0\u001b[0m                   \u001b[1;36m4\u001b[0m            flexible   \u001b[1;36m2.0\u001b[0m   \n",
       "\u001b[1;36m15529\u001b[0m      \u001b[1;36m1.0\u001b[0m                   \u001b[1;36m2\u001b[0m            flexible   \u001b[1;36m1.0\u001b[0m   \n",
       "\u001b[1;36m15530\u001b[0m      \u001b[1;36m0.0\u001b[0m                   \u001b[1;36m2\u001b[0m            moderate   \u001b[1;36m2.0\u001b[0m   \n",
       "\n",
       "       d_check_complete  moon_clearance_complete   price  company_id  \n",
       "\u001b[1;36m0\u001b[0m                 \u001b[3;91mFalse\u001b[0m                    \u001b[3;91mFalse\u001b[0m  \u001b[1;36m1715.0\u001b[0m       \u001b[1;36m32413\u001b[0m  \n",
       "\u001b[1;36m1\u001b[0m                 \u001b[3;91mFalse\u001b[0m                    \u001b[3;91mFalse\u001b[0m  \u001b[1;36m3405.0\u001b[0m       \u001b[1;36m14122\u001b[0m  \n",
       "\u001b[1;36m2\u001b[0m                  \u001b[3;92mTrue\u001b[0m                    \u001b[3;91mFalse\u001b[0m  \u001b[1;36m1806.0\u001b[0m       \u001b[1;36m47761\u001b[0m  \n",
       "\u001b[1;36m3\u001b[0m                 \u001b[3;91mFalse\u001b[0m                    \u001b[3;91mFalse\u001b[0m  \u001b[1;36m1676.0\u001b[0m       \u001b[1;36m26648\u001b[0m  \n",
       "\u001b[1;36m4\u001b[0m                 \u001b[3;91mFalse\u001b[0m                    \u001b[3;91mFalse\u001b[0m  \u001b[1;36m4718.0\u001b[0m       \u001b[1;36m26648\u001b[0m  \n",
       "\u001b[33m...\u001b[0m                 \u001b[33m...\u001b[0m                      \u001b[33m...\u001b[0m     \u001b[33m...\u001b[0m         \u001b[33m...\u001b[0m  \n",
       "\u001b[1;36m15526\u001b[0m              \u001b[3;92mTrue\u001b[0m                    \u001b[3;91mFalse\u001b[0m  \u001b[1;36m2040.0\u001b[0m        \u001b[1;36m5816\u001b[0m  \n",
       "\u001b[1;36m15527\u001b[0m              \u001b[3;92mTrue\u001b[0m                    \u001b[3;91mFalse\u001b[0m  \u001b[1;36m1260.0\u001b[0m       \u001b[1;36m19010\u001b[0m  \n",
       "\u001b[1;36m15528\u001b[0m              \u001b[3;92mTrue\u001b[0m                    \u001b[3;91mFalse\u001b[0m  \u001b[1;36m4107.0\u001b[0m        \u001b[1;36m6654\u001b[0m  \n",
       "\u001b[1;36m15529\u001b[0m              \u001b[3;92mTrue\u001b[0m                    \u001b[3;91mFalse\u001b[0m  \u001b[1;36m2170.0\u001b[0m       \u001b[1;36m27363\u001b[0m  \n",
       "\u001b[1;36m15530\u001b[0m              \u001b[3;92mTrue\u001b[0m                    \u001b[3;91mFalse\u001b[0m  \u001b[1;36m1455.0\u001b[0m       \u001b[1;36m12542\u001b[0m  \n",
       "\n",
       "\u001b[1m[\u001b[0m\u001b[1;36m15531\u001b[0m rows x \u001b[1;36m8\u001b[0m columns\u001b[1m]\u001b[0m"
      ]
     },
     "execution_count": 174,
     "metadata": {},
     "output_type": "execute_result"
    }
   ],
   "source": [
    "shuttles.iloc[:,5:]"
   ]
  },
  {
   "cell_type": "code",
   "execution_count": 53,
   "metadata": {},
   "outputs": [
    {
     "data": {
      "text/html": [
       "<pre style=\"white-space:pre;overflow-x:auto;line-height:normal;font-family:Menlo,'DejaVu Sans Mono',consolas,'Courier New',monospace\"></pre>\n"
      ],
      "text/plain": []
     },
     "metadata": {},
     "output_type": "display_data"
    },
    {
     "data": {
      "text/html": [
       "<div>\n",
       "<style scoped>\n",
       "    .dataframe tbody tr th:only-of-type {\n",
       "        vertical-align: middle;\n",
       "    }\n",
       "\n",
       "    .dataframe tbody tr th {\n",
       "        vertical-align: top;\n",
       "    }\n",
       "\n",
       "    .dataframe thead th {\n",
       "        text-align: right;\n",
       "    }\n",
       "</style>\n",
       "<table border=\"1\" class=\"dataframe\">\n",
       "  <thead>\n",
       "    <tr style=\"text-align: right;\">\n",
       "      <th></th>\n",
       "      <th>id</th>\n",
       "      <th>shuttle_location</th>\n",
       "      <th>shuttle_type</th>\n",
       "      <th>engine_type</th>\n",
       "      <th>engine_vendor</th>\n",
       "      <th>engines</th>\n",
       "      <th>passenger_capacity</th>\n",
       "      <th>cancellation_policy</th>\n",
       "      <th>crew</th>\n",
       "      <th>d_check_complete</th>\n",
       "      <th>moon_clearance_complete</th>\n",
       "      <th>price</th>\n",
       "      <th>company_id</th>\n",
       "    </tr>\n",
       "  </thead>\n",
       "  <tbody>\n",
       "    <tr>\n",
       "      <th>0</th>\n",
       "      <td>45163</td>\n",
       "      <td>Sao Tome and Principe</td>\n",
       "      <td>Type V5</td>\n",
       "      <td>Plasma</td>\n",
       "      <td>ThetaBase Services</td>\n",
       "      <td>2.0</td>\n",
       "      <td>4</td>\n",
       "      <td>moderate</td>\n",
       "      <td>2.0</td>\n",
       "      <td>False</td>\n",
       "      <td>False</td>\n",
       "      <td>1715.0</td>\n",
       "      <td>32413</td>\n",
       "    </tr>\n",
       "    <tr>\n",
       "      <th>1</th>\n",
       "      <td>49438</td>\n",
       "      <td>Wallis and Futuna</td>\n",
       "      <td>Type V2</td>\n",
       "      <td>Plasma</td>\n",
       "      <td>ThetaBase Services</td>\n",
       "      <td>3.0</td>\n",
       "      <td>5</td>\n",
       "      <td>moderate</td>\n",
       "      <td>3.0</td>\n",
       "      <td>False</td>\n",
       "      <td>False</td>\n",
       "      <td>3405.0</td>\n",
       "      <td>14122</td>\n",
       "    </tr>\n",
       "    <tr>\n",
       "      <th>2</th>\n",
       "      <td>10750</td>\n",
       "      <td>Niue</td>\n",
       "      <td>Type F5</td>\n",
       "      <td>Quantum</td>\n",
       "      <td>ThetaBase Services</td>\n",
       "      <td>1.0</td>\n",
       "      <td>2</td>\n",
       "      <td>strict</td>\n",
       "      <td>1.0</td>\n",
       "      <td>True</td>\n",
       "      <td>False</td>\n",
       "      <td>1806.0</td>\n",
       "      <td>47761</td>\n",
       "    </tr>\n",
       "    <tr>\n",
       "      <th>3</th>\n",
       "      <td>4146</td>\n",
       "      <td>Malta</td>\n",
       "      <td>Type V2</td>\n",
       "      <td>Quantum</td>\n",
       "      <td>ThetaBase Services</td>\n",
       "      <td>1.0</td>\n",
       "      <td>2</td>\n",
       "      <td>moderate</td>\n",
       "      <td>1.0</td>\n",
       "      <td>False</td>\n",
       "      <td>False</td>\n",
       "      <td>1676.0</td>\n",
       "      <td>26648</td>\n",
       "    </tr>\n",
       "    <tr>\n",
       "      <th>4</th>\n",
       "      <td>5067</td>\n",
       "      <td>Malta</td>\n",
       "      <td>Type V2</td>\n",
       "      <td>Plasma</td>\n",
       "      <td>ThetaBase Services</td>\n",
       "      <td>5.0</td>\n",
       "      <td>10</td>\n",
       "      <td>strict</td>\n",
       "      <td>5.0</td>\n",
       "      <td>False</td>\n",
       "      <td>False</td>\n",
       "      <td>4718.0</td>\n",
       "      <td>26648</td>\n",
       "    </tr>\n",
       "  </tbody>\n",
       "</table>\n",
       "</div>"
      ],
      "text/plain": [
       "\n",
       "      id       shuttle_location shuttle_type engine_type       engine_vendor  \\\n",
       "\u001b[1;36m0\u001b[0m  \u001b[1;36m45163\u001b[0m  Sao Tome and Principe      Type V5      Plasma  ThetaBase Services   \n",
       "\u001b[1;36m1\u001b[0m  \u001b[1;36m49438\u001b[0m      Wallis and Futuna      Type V2      Plasma  ThetaBase Services   \n",
       "\u001b[1;36m2\u001b[0m  \u001b[1;36m10750\u001b[0m                   Niue      Type F5     Quantum  ThetaBase Services   \n",
       "\u001b[1;36m3\u001b[0m   \u001b[1;36m4146\u001b[0m                  Malta      Type V2     Quantum  ThetaBase Services   \n",
       "\u001b[1;36m4\u001b[0m   \u001b[1;36m5067\u001b[0m                  Malta      Type V2      Plasma  ThetaBase Services   \n",
       "\n",
       "   engines  passenger_capacity cancellation_policy  crew  d_check_complete  \\\n",
       "\u001b[1;36m0\u001b[0m      \u001b[1;36m2.0\u001b[0m                   \u001b[1;36m4\u001b[0m            moderate   \u001b[1;36m2.0\u001b[0m             \u001b[3;91mFalse\u001b[0m   \n",
       "\u001b[1;36m1\u001b[0m      \u001b[1;36m3.0\u001b[0m                   \u001b[1;36m5\u001b[0m            moderate   \u001b[1;36m3.0\u001b[0m             \u001b[3;91mFalse\u001b[0m   \n",
       "\u001b[1;36m2\u001b[0m      \u001b[1;36m1.0\u001b[0m                   \u001b[1;36m2\u001b[0m              strict   \u001b[1;36m1.0\u001b[0m              \u001b[3;92mTrue\u001b[0m   \n",
       "\u001b[1;36m3\u001b[0m      \u001b[1;36m1.0\u001b[0m                   \u001b[1;36m2\u001b[0m            moderate   \u001b[1;36m1.0\u001b[0m             \u001b[3;91mFalse\u001b[0m   \n",
       "\u001b[1;36m4\u001b[0m      \u001b[1;36m5.0\u001b[0m                  \u001b[1;36m10\u001b[0m              strict   \u001b[1;36m5.0\u001b[0m             \u001b[3;91mFalse\u001b[0m   \n",
       "\n",
       "   moon_clearance_complete   price  company_id  \n",
       "\u001b[1;36m0\u001b[0m                    \u001b[3;91mFalse\u001b[0m  \u001b[1;36m1715.0\u001b[0m       \u001b[1;36m32413\u001b[0m  \n",
       "\u001b[1;36m1\u001b[0m                    \u001b[3;91mFalse\u001b[0m  \u001b[1;36m3405.0\u001b[0m       \u001b[1;36m14122\u001b[0m  \n",
       "\u001b[1;36m2\u001b[0m                    \u001b[3;91mFalse\u001b[0m  \u001b[1;36m1806.0\u001b[0m       \u001b[1;36m47761\u001b[0m  \n",
       "\u001b[1;36m3\u001b[0m                    \u001b[3;91mFalse\u001b[0m  \u001b[1;36m1676.0\u001b[0m       \u001b[1;36m26648\u001b[0m  \n",
       "\u001b[1;36m4\u001b[0m                    \u001b[3;91mFalse\u001b[0m  \u001b[1;36m4718.0\u001b[0m       \u001b[1;36m26648\u001b[0m  "
      ]
     },
     "execution_count": 53,
     "metadata": {},
     "output_type": "execute_result"
    }
   ],
   "source": [
    "shuttles.head()"
   ]
  },
  {
   "cell_type": "markdown",
   "metadata": {},
   "source": [
    "# Preprocessing for data catalog: Reviews"
   ]
  },
  {
   "cell_type": "code",
   "execution_count": 54,
   "metadata": {},
   "outputs": [
    {
     "data": {
      "text/html": [
       "<pre style=\"white-space:pre;overflow-x:auto;line-height:normal;font-family:Menlo,'DejaVu Sans Mono',consolas,'Courier New',monospace\"><span style=\"color: #7fbfbf; text-decoration-color: #7fbfbf\">[06/23/24 22:16:32] </span><span style=\"color: #000080; text-decoration-color: #000080\">INFO    </span> Loading data from <span style=\"color: #ff8700; text-decoration-color: #ff8700\">reviews</span> <span style=\"font-weight: bold\">(</span>CSVDataset<span style=\"font-weight: bold\">)</span><span style=\"color: #808000; text-decoration-color: #808000\">...</span>                          <a href=\"file:///home/mak/anaconda3/envs/kedro-environment/lib/python3.10/site-packages/kedro/io/data_catalog.py\" target=\"_blank\"><span style=\"color: #7f7f7f; text-decoration-color: #7f7f7f\">data_catalog.py</span></a><span style=\"color: #7f7f7f; text-decoration-color: #7f7f7f\">:</span><a href=\"file:///home/mak/anaconda3/envs/kedro-environment/lib/python3.10/site-packages/kedro/io/data_catalog.py#508\" target=\"_blank\"><span style=\"color: #7f7f7f; text-decoration-color: #7f7f7f\">508</span></a>\n",
       "</pre>\n"
      ],
      "text/plain": [
       "\u001b[2;36m[06/23/24 22:16:32]\u001b[0m\u001b[2;36m \u001b[0m\u001b[34mINFO    \u001b[0m Loading data from \u001b[38;5;208mreviews\u001b[0m \u001b[1m(\u001b[0mCSVDataset\u001b[1m)\u001b[0m\u001b[33m...\u001b[0m                          \u001b]8;id=275912;file:///home/mak/anaconda3/envs/kedro-environment/lib/python3.10/site-packages/kedro/io/data_catalog.py\u001b\\\u001b[2mdata_catalog.py\u001b[0m\u001b]8;;\u001b\\\u001b[2m:\u001b[0m\u001b]8;id=114101;file:///home/mak/anaconda3/envs/kedro-environment/lib/python3.10/site-packages/kedro/io/data_catalog.py#508\u001b\\\u001b[2m508\u001b[0m\u001b]8;;\u001b\\\n"
      ]
     },
     "metadata": {},
     "output_type": "display_data"
    },
    {
     "data": {
      "text/html": [
       "<pre style=\"white-space:pre;overflow-x:auto;line-height:normal;font-family:Menlo,'DejaVu Sans Mono',consolas,'Courier New',monospace\"></pre>\n"
      ],
      "text/plain": []
     },
     "metadata": {},
     "output_type": "display_data"
    },
    {
     "data": {
      "text/html": [
       "<div>\n",
       "<style scoped>\n",
       "    .dataframe tbody tr th:only-of-type {\n",
       "        vertical-align: middle;\n",
       "    }\n",
       "\n",
       "    .dataframe tbody tr th {\n",
       "        vertical-align: top;\n",
       "    }\n",
       "\n",
       "    .dataframe thead th {\n",
       "        text-align: right;\n",
       "    }\n",
       "</style>\n",
       "<table border=\"1\" class=\"dataframe\">\n",
       "  <thead>\n",
       "    <tr style=\"text-align: right;\">\n",
       "      <th></th>\n",
       "      <th>shuttle_id</th>\n",
       "      <th>review_scores_rating</th>\n",
       "      <th>review_scores_comfort</th>\n",
       "      <th>review_scores_amenities</th>\n",
       "      <th>review_scores_trip</th>\n",
       "      <th>review_scores_crew</th>\n",
       "      <th>review_scores_location</th>\n",
       "      <th>review_scores_price</th>\n",
       "      <th>number_of_reviews</th>\n",
       "      <th>reviews_per_month</th>\n",
       "    </tr>\n",
       "  </thead>\n",
       "  <tbody>\n",
       "    <tr>\n",
       "      <th>0</th>\n",
       "      <td>45163</td>\n",
       "      <td>91.0</td>\n",
       "      <td>10.0</td>\n",
       "      <td>9.0</td>\n",
       "      <td>9.0</td>\n",
       "      <td>9.0</td>\n",
       "      <td>9.0</td>\n",
       "      <td>9.0</td>\n",
       "      <td>26</td>\n",
       "      <td>0.77</td>\n",
       "    </tr>\n",
       "    <tr>\n",
       "      <th>1</th>\n",
       "      <td>49438</td>\n",
       "      <td>96.0</td>\n",
       "      <td>10.0</td>\n",
       "      <td>10.0</td>\n",
       "      <td>10.0</td>\n",
       "      <td>10.0</td>\n",
       "      <td>10.0</td>\n",
       "      <td>9.0</td>\n",
       "      <td>61</td>\n",
       "      <td>0.62</td>\n",
       "    </tr>\n",
       "    <tr>\n",
       "      <th>2</th>\n",
       "      <td>10750</td>\n",
       "      <td>97.0</td>\n",
       "      <td>10.0</td>\n",
       "      <td>10.0</td>\n",
       "      <td>10.0</td>\n",
       "      <td>10.0</td>\n",
       "      <td>10.0</td>\n",
       "      <td>10.0</td>\n",
       "      <td>467</td>\n",
       "      <td>4.66</td>\n",
       "    </tr>\n",
       "    <tr>\n",
       "      <th>3</th>\n",
       "      <td>4146</td>\n",
       "      <td>95.0</td>\n",
       "      <td>10.0</td>\n",
       "      <td>10.0</td>\n",
       "      <td>10.0</td>\n",
       "      <td>10.0</td>\n",
       "      <td>9.0</td>\n",
       "      <td>9.0</td>\n",
       "      <td>318</td>\n",
       "      <td>3.22</td>\n",
       "    </tr>\n",
       "    <tr>\n",
       "      <th>4</th>\n",
       "      <td>5067</td>\n",
       "      <td>97.0</td>\n",
       "      <td>10.0</td>\n",
       "      <td>9.0</td>\n",
       "      <td>10.0</td>\n",
       "      <td>10.0</td>\n",
       "      <td>9.0</td>\n",
       "      <td>10.0</td>\n",
       "      <td>22</td>\n",
       "      <td>0.29</td>\n",
       "    </tr>\n",
       "    <tr>\n",
       "      <th>...</th>\n",
       "      <td>...</td>\n",
       "      <td>...</td>\n",
       "      <td>...</td>\n",
       "      <td>...</td>\n",
       "      <td>...</td>\n",
       "      <td>...</td>\n",
       "      <td>...</td>\n",
       "      <td>...</td>\n",
       "      <td>...</td>\n",
       "      <td>...</td>\n",
       "    </tr>\n",
       "    <tr>\n",
       "      <th>15526</th>\n",
       "      <td>63513</td>\n",
       "      <td>NaN</td>\n",
       "      <td>NaN</td>\n",
       "      <td>NaN</td>\n",
       "      <td>NaN</td>\n",
       "      <td>NaN</td>\n",
       "      <td>NaN</td>\n",
       "      <td>NaN</td>\n",
       "      <td>0</td>\n",
       "      <td>NaN</td>\n",
       "    </tr>\n",
       "    <tr>\n",
       "      <th>15527</th>\n",
       "      <td>44668</td>\n",
       "      <td>NaN</td>\n",
       "      <td>NaN</td>\n",
       "      <td>NaN</td>\n",
       "      <td>NaN</td>\n",
       "      <td>NaN</td>\n",
       "      <td>NaN</td>\n",
       "      <td>NaN</td>\n",
       "      <td>0</td>\n",
       "      <td>NaN</td>\n",
       "    </tr>\n",
       "    <tr>\n",
       "      <th>15528</th>\n",
       "      <td>4368</td>\n",
       "      <td>NaN</td>\n",
       "      <td>NaN</td>\n",
       "      <td>NaN</td>\n",
       "      <td>NaN</td>\n",
       "      <td>NaN</td>\n",
       "      <td>NaN</td>\n",
       "      <td>NaN</td>\n",
       "      <td>0</td>\n",
       "      <td>NaN</td>\n",
       "    </tr>\n",
       "    <tr>\n",
       "      <th>15529</th>\n",
       "      <td>21738</td>\n",
       "      <td>NaN</td>\n",
       "      <td>NaN</td>\n",
       "      <td>NaN</td>\n",
       "      <td>NaN</td>\n",
       "      <td>NaN</td>\n",
       "      <td>NaN</td>\n",
       "      <td>NaN</td>\n",
       "      <td>0</td>\n",
       "      <td>NaN</td>\n",
       "    </tr>\n",
       "    <tr>\n",
       "      <th>15530</th>\n",
       "      <td>72645</td>\n",
       "      <td>NaN</td>\n",
       "      <td>NaN</td>\n",
       "      <td>NaN</td>\n",
       "      <td>NaN</td>\n",
       "      <td>NaN</td>\n",
       "      <td>NaN</td>\n",
       "      <td>NaN</td>\n",
       "      <td>0</td>\n",
       "      <td>NaN</td>\n",
       "    </tr>\n",
       "  </tbody>\n",
       "</table>\n",
       "<p>15531 rows × 10 columns</p>\n",
       "</div>"
      ],
      "text/plain": [
       "\n",
       "       shuttle_id  review_scores_rating  review_scores_comfort  \\\n",
       "\u001b[1;36m0\u001b[0m           \u001b[1;36m45163\u001b[0m                  \u001b[1;36m91.0\u001b[0m                   \u001b[1;36m10.0\u001b[0m   \n",
       "\u001b[1;36m1\u001b[0m           \u001b[1;36m49438\u001b[0m                  \u001b[1;36m96.0\u001b[0m                   \u001b[1;36m10.0\u001b[0m   \n",
       "\u001b[1;36m2\u001b[0m           \u001b[1;36m10750\u001b[0m                  \u001b[1;36m97.0\u001b[0m                   \u001b[1;36m10.0\u001b[0m   \n",
       "\u001b[1;36m3\u001b[0m            \u001b[1;36m4146\u001b[0m                  \u001b[1;36m95.0\u001b[0m                   \u001b[1;36m10.0\u001b[0m   \n",
       "\u001b[1;36m4\u001b[0m            \u001b[1;36m5067\u001b[0m                  \u001b[1;36m97.0\u001b[0m                   \u001b[1;36m10.0\u001b[0m   \n",
       "\u001b[33m...\u001b[0m           \u001b[33m...\u001b[0m                   \u001b[33m...\u001b[0m                    \u001b[33m...\u001b[0m   \n",
       "\u001b[1;36m15526\u001b[0m       \u001b[1;36m63513\u001b[0m                   NaN                    NaN   \n",
       "\u001b[1;36m15527\u001b[0m       \u001b[1;36m44668\u001b[0m                   NaN                    NaN   \n",
       "\u001b[1;36m15528\u001b[0m        \u001b[1;36m4368\u001b[0m                   NaN                    NaN   \n",
       "\u001b[1;36m15529\u001b[0m       \u001b[1;36m21738\u001b[0m                   NaN                    NaN   \n",
       "\u001b[1;36m15530\u001b[0m       \u001b[1;36m72645\u001b[0m                   NaN                    NaN   \n",
       "\n",
       "       review_scores_amenities  review_scores_trip  review_scores_crew  \\\n",
       "\u001b[1;36m0\u001b[0m                          \u001b[1;36m9.0\u001b[0m                 \u001b[1;36m9.0\u001b[0m                 \u001b[1;36m9.0\u001b[0m   \n",
       "\u001b[1;36m1\u001b[0m                         \u001b[1;36m10.0\u001b[0m                \u001b[1;36m10.0\u001b[0m                \u001b[1;36m10.0\u001b[0m   \n",
       "\u001b[1;36m2\u001b[0m                         \u001b[1;36m10.0\u001b[0m                \u001b[1;36m10.0\u001b[0m                \u001b[1;36m10.0\u001b[0m   \n",
       "\u001b[1;36m3\u001b[0m                         \u001b[1;36m10.0\u001b[0m                \u001b[1;36m10.0\u001b[0m                \u001b[1;36m10.0\u001b[0m   \n",
       "\u001b[1;36m4\u001b[0m                          \u001b[1;36m9.0\u001b[0m                \u001b[1;36m10.0\u001b[0m                \u001b[1;36m10.0\u001b[0m   \n",
       "\u001b[33m...\u001b[0m                        \u001b[33m...\u001b[0m                 \u001b[33m...\u001b[0m                 \u001b[33m...\u001b[0m   \n",
       "\u001b[1;36m15526\u001b[0m                      NaN                 NaN                 NaN   \n",
       "\u001b[1;36m15527\u001b[0m                      NaN                 NaN                 NaN   \n",
       "\u001b[1;36m15528\u001b[0m                      NaN                 NaN                 NaN   \n",
       "\u001b[1;36m15529\u001b[0m                      NaN                 NaN                 NaN   \n",
       "\u001b[1;36m15530\u001b[0m                      NaN                 NaN                 NaN   \n",
       "\n",
       "       review_scores_location  review_scores_price  number_of_reviews  \\\n",
       "\u001b[1;36m0\u001b[0m                         \u001b[1;36m9.0\u001b[0m                  \u001b[1;36m9.0\u001b[0m                 \u001b[1;36m26\u001b[0m   \n",
       "\u001b[1;36m1\u001b[0m                        \u001b[1;36m10.0\u001b[0m                  \u001b[1;36m9.0\u001b[0m                 \u001b[1;36m61\u001b[0m   \n",
       "\u001b[1;36m2\u001b[0m                        \u001b[1;36m10.0\u001b[0m                 \u001b[1;36m10.0\u001b[0m                \u001b[1;36m467\u001b[0m   \n",
       "\u001b[1;36m3\u001b[0m                         \u001b[1;36m9.0\u001b[0m                  \u001b[1;36m9.0\u001b[0m                \u001b[1;36m318\u001b[0m   \n",
       "\u001b[1;36m4\u001b[0m                         \u001b[1;36m9.0\u001b[0m                 \u001b[1;36m10.0\u001b[0m                 \u001b[1;36m22\u001b[0m   \n",
       "\u001b[33m...\u001b[0m                       \u001b[33m...\u001b[0m                  \u001b[33m...\u001b[0m                \u001b[33m...\u001b[0m   \n",
       "\u001b[1;36m15526\u001b[0m                     NaN                  NaN                  \u001b[1;36m0\u001b[0m   \n",
       "\u001b[1;36m15527\u001b[0m                     NaN                  NaN                  \u001b[1;36m0\u001b[0m   \n",
       "\u001b[1;36m15528\u001b[0m                     NaN                  NaN                  \u001b[1;36m0\u001b[0m   \n",
       "\u001b[1;36m15529\u001b[0m                     NaN                  NaN                  \u001b[1;36m0\u001b[0m   \n",
       "\u001b[1;36m15530\u001b[0m                     NaN                  NaN                  \u001b[1;36m0\u001b[0m   \n",
       "\n",
       "       reviews_per_month  \n",
       "\u001b[1;36m0\u001b[0m                   \u001b[1;36m0.77\u001b[0m  \n",
       "\u001b[1;36m1\u001b[0m                   \u001b[1;36m0.62\u001b[0m  \n",
       "\u001b[1;36m2\u001b[0m                   \u001b[1;36m4.66\u001b[0m  \n",
       "\u001b[1;36m3\u001b[0m                   \u001b[1;36m3.22\u001b[0m  \n",
       "\u001b[1;36m4\u001b[0m                   \u001b[1;36m0.29\u001b[0m  \n",
       "\u001b[33m...\u001b[0m                  \u001b[33m...\u001b[0m  \n",
       "\u001b[1;36m15526\u001b[0m                NaN  \n",
       "\u001b[1;36m15527\u001b[0m                NaN  \n",
       "\u001b[1;36m15528\u001b[0m                NaN  \n",
       "\u001b[1;36m15529\u001b[0m                NaN  \n",
       "\u001b[1;36m15530\u001b[0m                NaN  \n",
       "\n",
       "\u001b[1m[\u001b[0m\u001b[1;36m15531\u001b[0m rows x \u001b[1;36m10\u001b[0m columns\u001b[1m]\u001b[0m"
      ]
     },
     "execution_count": 54,
     "metadata": {},
     "output_type": "execute_result"
    }
   ],
   "source": [
    "catalog.load(\"reviews\")"
   ]
  }
 ],
 "metadata": {
  "kernelspec": {
   "display_name": "kedro-environment",
   "language": "python",
   "name": "python3"
  },
  "language_info": {
   "codemirror_mode": {
    "name": "ipython",
    "version": 3
   },
   "file_extension": ".py",
   "mimetype": "text/x-python",
   "name": "python",
   "nbconvert_exporter": "python",
   "pygments_lexer": "ipython3",
   "version": "3.10.14"
  }
 },
 "nbformat": 4,
 "nbformat_minor": 2
}
